{
 "cells": [
  {
   "cell_type": "markdown",
   "metadata": {},
   "source": [
    "# Importing the libraries\n"
   ]
  },
  {
   "cell_type": "code",
   "execution_count": 1,
   "metadata": {},
   "outputs": [
    {
     "name": "stderr",
     "output_type": "stream",
     "text": [
      "Using TensorFlow backend.\n"
     ]
    }
   ],
   "source": [
    "import pandas as pd\n",
    "import numpy as np\n",
    "import os\n",
    "import glob\n",
    "import matplotlib.pyplot as plt\n",
    "from sklearn.cluster import DBSCAN\n",
    "from sklearn.preprocessing import StandardScaler\n",
    "from keras.models import Sequential\n",
    "from keras.layers import Dense, Dropout\n",
    "from keras.wrappers.scikit_learn import KerasClassifier\n",
    "from keras.utils import np_utils\n",
    "from sklearn.model_selection import cross_val_score\n",
    "from sklearn.model_selection import KFold\n",
    "from sklearn.preprocessing import LabelEncoder\n",
    "from sklearn.pipeline import Pipeline\n",
    "from sklearn.ensemble import RandomForestClassifier"
   ]
  },
  {
   "cell_type": "code",
   "execution_count": null,
   "metadata": {},
   "outputs": [],
   "source": []
  },
  {
   "cell_type": "markdown",
   "metadata": {},
   "source": [
    "# Importing the dataset"
   ]
  },
  {
   "cell_type": "code",
   "execution_count": 2,
   "metadata": {},
   "outputs": [],
   "source": [
    "\n",
    "df_train = pd.read_csv(\"NewCropTrainFinal.csv\")\n",
    "\n",
    "df_test = pd.read_csv(\"NewCropTestFinal.csv\")"
   ]
  },
  {
   "cell_type": "markdown",
   "metadata": {},
   "source": [
    "# Data Preprocessing And Data Wrangling"
   ]
  },
  {
   "cell_type": "code",
   "execution_count": 3,
   "metadata": {},
   "outputs": [
    {
     "data": {
      "text/html": [
       "<div>\n",
       "<style scoped>\n",
       "    .dataframe tbody tr th:only-of-type {\n",
       "        vertical-align: middle;\n",
       "    }\n",
       "\n",
       "    .dataframe tbody tr th {\n",
       "        vertical-align: top;\n",
       "    }\n",
       "\n",
       "    .dataframe thead th {\n",
       "        text-align: right;\n",
       "    }\n",
       "</style>\n",
       "<table border=\"1\" class=\"dataframe\">\n",
       "  <thead>\n",
       "    <tr style=\"text-align: right;\">\n",
       "      <th></th>\n",
       "      <th>Area</th>\n",
       "      <th>Production</th>\n",
       "      <th>Rainfall</th>\n",
       "      <th>Season</th>\n",
       "      <th>Temperature</th>\n",
       "      <th>Crop</th>\n",
       "      <th>pH</th>\n",
       "      <th>Nitrogen(kg/ha)</th>\n",
       "      <th>ElectricalConductivity(ds/m)</th>\n",
       "    </tr>\n",
       "  </thead>\n",
       "  <tbody>\n",
       "    <tr>\n",
       "      <th>0</th>\n",
       "      <td>7800.0</td>\n",
       "      <td>3200.0</td>\n",
       "      <td>30.400333</td>\n",
       "      <td>Kharif</td>\n",
       "      <td>28.007000</td>\n",
       "      <td>Moong(Green Gram)</td>\n",
       "      <td>6.5</td>\n",
       "      <td>497.0</td>\n",
       "      <td>4.1</td>\n",
       "    </tr>\n",
       "    <tr>\n",
       "      <th>1</th>\n",
       "      <td>39922.0</td>\n",
       "      <td>75572.0</td>\n",
       "      <td>111.901000</td>\n",
       "      <td>Kharif</td>\n",
       "      <td>27.232333</td>\n",
       "      <td>Maize</td>\n",
       "      <td>5.6</td>\n",
       "      <td>473.0</td>\n",
       "      <td>3.9</td>\n",
       "    </tr>\n",
       "    <tr>\n",
       "      <th>2</th>\n",
       "      <td>44656.0</td>\n",
       "      <td>49099.0</td>\n",
       "      <td>3.396500</td>\n",
       "      <td>Rabi</td>\n",
       "      <td>20.277000</td>\n",
       "      <td>Wheat</td>\n",
       "      <td>7.3</td>\n",
       "      <td>366.0</td>\n",
       "      <td>4.9</td>\n",
       "    </tr>\n",
       "    <tr>\n",
       "      <th>3</th>\n",
       "      <td>6540.0</td>\n",
       "      <td>3945.0</td>\n",
       "      <td>30.932500</td>\n",
       "      <td>Rabi</td>\n",
       "      <td>24.241500</td>\n",
       "      <td>Wheat</td>\n",
       "      <td>5.3</td>\n",
       "      <td>417.0</td>\n",
       "      <td>3.8</td>\n",
       "    </tr>\n",
       "    <tr>\n",
       "      <th>4</th>\n",
       "      <td>2911.0</td>\n",
       "      <td>2062.0</td>\n",
       "      <td>189.208333</td>\n",
       "      <td>Kharif</td>\n",
       "      <td>27.456333</td>\n",
       "      <td>Maize</td>\n",
       "      <td>6.3</td>\n",
       "      <td>267.0</td>\n",
       "      <td>3.5</td>\n",
       "    </tr>\n",
       "    <tr>\n",
       "      <th>5</th>\n",
       "      <td>7.0</td>\n",
       "      <td>2.0</td>\n",
       "      <td>21.609750</td>\n",
       "      <td>Rabi</td>\n",
       "      <td>23.570000</td>\n",
       "      <td>Moong(Green Gram)</td>\n",
       "      <td>6.3</td>\n",
       "      <td>435.0</td>\n",
       "      <td>3.4</td>\n",
       "    </tr>\n",
       "    <tr>\n",
       "      <th>6</th>\n",
       "      <td>18.0</td>\n",
       "      <td>21.0</td>\n",
       "      <td>206.319750</td>\n",
       "      <td>Summer</td>\n",
       "      <td>28.760250</td>\n",
       "      <td>Groundnut</td>\n",
       "      <td>5.8</td>\n",
       "      <td>370.0</td>\n",
       "      <td>2.0</td>\n",
       "    </tr>\n",
       "    <tr>\n",
       "      <th>7</th>\n",
       "      <td>39157.0</td>\n",
       "      <td>1878596.0</td>\n",
       "      <td>186.938333</td>\n",
       "      <td>Kharif</td>\n",
       "      <td>27.940667</td>\n",
       "      <td>Sugarcane</td>\n",
       "      <td>5.1</td>\n",
       "      <td>312.0</td>\n",
       "      <td>5.3</td>\n",
       "    </tr>\n",
       "    <tr>\n",
       "      <th>8</th>\n",
       "      <td>10562.0</td>\n",
       "      <td>16812.0</td>\n",
       "      <td>81.593333</td>\n",
       "      <td>Kharif</td>\n",
       "      <td>26.181000</td>\n",
       "      <td>Jowar</td>\n",
       "      <td>7.1</td>\n",
       "      <td>334.0</td>\n",
       "      <td>3.8</td>\n",
       "    </tr>\n",
       "    <tr>\n",
       "      <th>9</th>\n",
       "      <td>179.0</td>\n",
       "      <td>2174.0</td>\n",
       "      <td>68.501750</td>\n",
       "      <td>Rabi</td>\n",
       "      <td>24.139750</td>\n",
       "      <td>Potato</td>\n",
       "      <td>6.8</td>\n",
       "      <td>365.0</td>\n",
       "      <td>2.9</td>\n",
       "    </tr>\n",
       "  </tbody>\n",
       "</table>\n",
       "</div>"
      ],
      "text/plain": [
       "      Area  Production    Rainfall  Season  Temperature               Crop  \\\n",
       "0   7800.0      3200.0   30.400333  Kharif    28.007000  Moong(Green Gram)   \n",
       "1  39922.0     75572.0  111.901000  Kharif    27.232333              Maize   \n",
       "2  44656.0     49099.0    3.396500    Rabi    20.277000              Wheat   \n",
       "3   6540.0      3945.0   30.932500    Rabi    24.241500              Wheat   \n",
       "4   2911.0      2062.0  189.208333  Kharif    27.456333              Maize   \n",
       "5      7.0         2.0   21.609750    Rabi    23.570000  Moong(Green Gram)   \n",
       "6     18.0        21.0  206.319750  Summer    28.760250          Groundnut   \n",
       "7  39157.0   1878596.0  186.938333  Kharif    27.940667          Sugarcane   \n",
       "8  10562.0     16812.0   81.593333  Kharif    26.181000              Jowar   \n",
       "9    179.0      2174.0   68.501750    Rabi    24.139750             Potato   \n",
       "\n",
       "    pH  Nitrogen(kg/ha)  ElectricalConductivity(ds/m)  \n",
       "0  6.5            497.0                           4.1  \n",
       "1  5.6            473.0                           3.9  \n",
       "2  7.3            366.0                           4.9  \n",
       "3  5.3            417.0                           3.8  \n",
       "4  6.3            267.0                           3.5  \n",
       "5  6.3            435.0                           3.4  \n",
       "6  5.8            370.0                           2.0  \n",
       "7  5.1            312.0                           5.3  \n",
       "8  7.1            334.0                           3.8  \n",
       "9  6.8            365.0                           2.9  "
      ]
     },
     "execution_count": 3,
     "metadata": {},
     "output_type": "execute_result"
    }
   ],
   "source": [
    "df_train.head(10)\n"
   ]
  },
  {
   "cell_type": "code",
   "execution_count": 4,
   "metadata": {},
   "outputs": [
    {
     "data": {
      "text/html": [
       "<div>\n",
       "<style scoped>\n",
       "    .dataframe tbody tr th:only-of-type {\n",
       "        vertical-align: middle;\n",
       "    }\n",
       "\n",
       "    .dataframe tbody tr th {\n",
       "        vertical-align: top;\n",
       "    }\n",
       "\n",
       "    .dataframe thead th {\n",
       "        text-align: right;\n",
       "    }\n",
       "</style>\n",
       "<table border=\"1\" class=\"dataframe\">\n",
       "  <thead>\n",
       "    <tr style=\"text-align: right;\">\n",
       "      <th></th>\n",
       "      <th>Area</th>\n",
       "      <th>Production</th>\n",
       "      <th>Rainfall</th>\n",
       "      <th>Season</th>\n",
       "      <th>Temperature</th>\n",
       "      <th>Crop</th>\n",
       "      <th>Nitrogen(kg/ha)</th>\n",
       "      <th>ElectricalConductivity(ds/m)</th>\n",
       "      <th>pH</th>\n",
       "    </tr>\n",
       "  </thead>\n",
       "  <tbody>\n",
       "    <tr>\n",
       "      <th>0</th>\n",
       "      <td>28625.0</td>\n",
       "      <td>1784483.0</td>\n",
       "      <td>143.636000</td>\n",
       "      <td>Kharif</td>\n",
       "      <td>28.299667</td>\n",
       "      <td>Sugarcane</td>\n",
       "      <td>328.0</td>\n",
       "      <td>1.5</td>\n",
       "      <td>5.4</td>\n",
       "    </tr>\n",
       "    <tr>\n",
       "      <th>1</th>\n",
       "      <td>138347.0</td>\n",
       "      <td>258707.0</td>\n",
       "      <td>8.579000</td>\n",
       "      <td>Rabi</td>\n",
       "      <td>20.535500</td>\n",
       "      <td>Wheat</td>\n",
       "      <td>224.0</td>\n",
       "      <td>1.8</td>\n",
       "      <td>6.5</td>\n",
       "    </tr>\n",
       "    <tr>\n",
       "      <th>2</th>\n",
       "      <td>610.0</td>\n",
       "      <td>3547.0</td>\n",
       "      <td>56.610000</td>\n",
       "      <td>Rabi</td>\n",
       "      <td>23.534750</td>\n",
       "      <td>Onion</td>\n",
       "      <td>318.0</td>\n",
       "      <td>4.6</td>\n",
       "      <td>6.0</td>\n",
       "    </tr>\n",
       "    <tr>\n",
       "      <th>3</th>\n",
       "      <td>200.0</td>\n",
       "      <td>300.0</td>\n",
       "      <td>223.255500</td>\n",
       "      <td>Summer</td>\n",
       "      <td>30.272250</td>\n",
       "      <td>Maize</td>\n",
       "      <td>229.0</td>\n",
       "      <td>3.2</td>\n",
       "      <td>6.7</td>\n",
       "    </tr>\n",
       "    <tr>\n",
       "      <th>4</th>\n",
       "      <td>33000.0</td>\n",
       "      <td>23100.0</td>\n",
       "      <td>127.565667</td>\n",
       "      <td>Kharif</td>\n",
       "      <td>26.343000</td>\n",
       "      <td>Moong(Green Gram)</td>\n",
       "      <td>479.0</td>\n",
       "      <td>3.9</td>\n",
       "      <td>7.2</td>\n",
       "    </tr>\n",
       "    <tr>\n",
       "      <th>5</th>\n",
       "      <td>7700.0</td>\n",
       "      <td>3500.0</td>\n",
       "      <td>71.837000</td>\n",
       "      <td>Kharif</td>\n",
       "      <td>29.354333</td>\n",
       "      <td>Urad</td>\n",
       "      <td>368.0</td>\n",
       "      <td>3.0</td>\n",
       "      <td>7.5</td>\n",
       "    </tr>\n",
       "    <tr>\n",
       "      <th>6</th>\n",
       "      <td>7425.0</td>\n",
       "      <td>3438.0</td>\n",
       "      <td>159.932333</td>\n",
       "      <td>Kharif</td>\n",
       "      <td>28.107333</td>\n",
       "      <td>Arhar/Tur</td>\n",
       "      <td>279.0</td>\n",
       "      <td>3.7</td>\n",
       "      <td>5.4</td>\n",
       "    </tr>\n",
       "    <tr>\n",
       "      <th>7</th>\n",
       "      <td>4842.0</td>\n",
       "      <td>4019.0</td>\n",
       "      <td>132.896000</td>\n",
       "      <td>Kharif</td>\n",
       "      <td>28.846667</td>\n",
       "      <td>Arhar/Tur</td>\n",
       "      <td>358.0</td>\n",
       "      <td>3.9</td>\n",
       "      <td>5.2</td>\n",
       "    </tr>\n",
       "    <tr>\n",
       "      <th>8</th>\n",
       "      <td>842.0</td>\n",
       "      <td>1880.0</td>\n",
       "      <td>127.488000</td>\n",
       "      <td>Summer</td>\n",
       "      <td>26.284500</td>\n",
       "      <td>Maize</td>\n",
       "      <td>448.0</td>\n",
       "      <td>4.0</td>\n",
       "      <td>6.9</td>\n",
       "    </tr>\n",
       "    <tr>\n",
       "      <th>9</th>\n",
       "      <td>4500.0</td>\n",
       "      <td>700.0</td>\n",
       "      <td>139.045333</td>\n",
       "      <td>Kharif</td>\n",
       "      <td>26.061000</td>\n",
       "      <td>Sesamum</td>\n",
       "      <td>397.0</td>\n",
       "      <td>1.3</td>\n",
       "      <td>6.6</td>\n",
       "    </tr>\n",
       "  </tbody>\n",
       "</table>\n",
       "</div>"
      ],
      "text/plain": [
       "       Area  Production    Rainfall  Season  Temperature               Crop  \\\n",
       "0   28625.0   1784483.0  143.636000  Kharif    28.299667          Sugarcane   \n",
       "1  138347.0    258707.0    8.579000    Rabi    20.535500              Wheat   \n",
       "2     610.0      3547.0   56.610000    Rabi    23.534750              Onion   \n",
       "3     200.0       300.0  223.255500  Summer    30.272250              Maize   \n",
       "4   33000.0     23100.0  127.565667  Kharif    26.343000  Moong(Green Gram)   \n",
       "5    7700.0      3500.0   71.837000  Kharif    29.354333               Urad   \n",
       "6    7425.0      3438.0  159.932333  Kharif    28.107333          Arhar/Tur   \n",
       "7    4842.0      4019.0  132.896000  Kharif    28.846667          Arhar/Tur   \n",
       "8     842.0      1880.0  127.488000  Summer    26.284500              Maize   \n",
       "9    4500.0       700.0  139.045333  Kharif    26.061000            Sesamum   \n",
       "\n",
       "   Nitrogen(kg/ha)  ElectricalConductivity(ds/m)   pH  \n",
       "0            328.0                           1.5  5.4  \n",
       "1            224.0                           1.8  6.5  \n",
       "2            318.0                           4.6  6.0  \n",
       "3            229.0                           3.2  6.7  \n",
       "4            479.0                           3.9  7.2  \n",
       "5            368.0                           3.0  7.5  \n",
       "6            279.0                           3.7  5.4  \n",
       "7            358.0                           3.9  5.2  \n",
       "8            448.0                           4.0  6.9  \n",
       "9            397.0                           1.3  6.6  "
      ]
     },
     "execution_count": 4,
     "metadata": {},
     "output_type": "execute_result"
    }
   ],
   "source": [
    "df_test.head(10)"
   ]
  },
  {
   "cell_type": "code",
   "execution_count": 5,
   "metadata": {},
   "outputs": [],
   "source": [
    "import seaborn as sns"
   ]
  },
  {
   "cell_type": "code",
   "execution_count": 6,
   "metadata": {},
   "outputs": [
    {
     "data": {
      "text/plain": [
       "<matplotlib.axes._subplots.AxesSubplot at 0x7f869e7eaa90>"
      ]
     },
     "execution_count": 6,
     "metadata": {},
     "output_type": "execute_result"
    },
    {
     "data": {
      "image/png": "[encoded data removed]",
      "text/plain": [
       "<Figure size 432x288 with 1 Axes>"
      ]
     },
     "metadata": {
      "needs_background": "light"
     },
     "output_type": "display_data"
    }
   ],
   "source": [
    "sns.barplot(x=df_train['Season'],y=df_train['Production'],data=df_train)"
   ]
  },
  {
   "cell_type": "code",
   "execution_count": 9,
   "metadata": {},
   "outputs": [
    {
     "data": {
      "text/plain": [
       "<matplotlib.axes._subplots.AxesSubplot at 0x7f869e2e1eb8>"
      ]
     },
     "execution_count": 9,
     "metadata": {},
     "output_type": "execute_result"
    },
    {
     "data": {
      "image/png": "[encoded data removed]",
      "text/plain": [
       "<Figure size 1296x720 with 1 Axes>"
      ]
     },
     "metadata": {
      "needs_background": "light"
     },
     "output_type": "display_data"
    }
   ],
   "source": [
    "fig_dims = (18,10)\n",
    "fig, ax = plt.subplots(figsize=fig_dims)\n",
    "\n",
    "sns.barplot(x=df_train['Crop'],y=df_train['Production'],data=df_train,ax=ax)"
   ]
  },
  {
   "cell_type": "code",
   "execution_count": 8,
   "metadata": {},
   "outputs": [
    {
     "data": {
      "text/plain": [
       "<matplotlib.axes._subplots.AxesSubplot at 0x7f869e714048>"
      ]
     },
     "execution_count": 8,
     "metadata": {},
     "output_type": "execute_result"
    },
    {
     "data": {
      "image/png": "[encoded data removed]",
      "text/plain": [
       "<Figure size 864x360 with 1 Axes>"
      ]
     },
     "metadata": {
      "needs_background": "light"
     },
     "output_type": "display_data"
    }
   ],
   "source": [
    "fig_dims = (12,5)\n",
    "fig, ax = plt.subplots(figsize=fig_dims)\n",
    "\n",
    "sns.barplot(x=df_train['Season'],y=df_train['Production'],data=df_train,ax=ax,hue='Crop',)"
   ]
  },
  {
   "cell_type": "code",
   "execution_count": 10,
   "metadata": {},
   "outputs": [
    {
     "data": {
      "text/plain": [
       "<matplotlib.axes._subplots.AxesSubplot at 0x7f869e1c62b0>"
      ]
     },
     "execution_count": 10,
     "metadata": {},
     "output_type": "execute_result"
    },
    {
     "data": {
      "image/png": "[encoded data removed]",
      "text/plain": [
       "<Figure size 432x288 with 1 Axes>"
      ]
     },
     "metadata": {
      "needs_background": "light"
     },
     "output_type": "display_data"
    }
   ],
   "source": [
    "\n",
    "df_train.groupby(\"Season\")[[\"Production\"]].sum().plot()"
   ]
  },
  {
   "cell_type": "code",
   "execution_count": 11,
   "metadata": {},
   "outputs": [
    {
     "data": {
      "text/plain": [
       "(85225, 9)"
      ]
     },
     "execution_count": 11,
     "metadata": {},
     "output_type": "execute_result"
    }
   ],
   "source": [
    "#checking the shape\n",
    "df_train.shape"
   ]
  },
  {
   "cell_type": "code",
   "execution_count": 12,
   "metadata": {},
   "outputs": [
    {
     "data": {
      "text/plain": [
       "21.255070910532442"
      ]
     },
     "execution_count": 12,
     "metadata": {},
     "output_type": "execute_result"
    }
   ],
   "source": [
    "df_train[\"Production\"].skew()"
   ]
  },
  {
   "cell_type": "code",
   "execution_count": null,
   "metadata": {},
   "outputs": [],
   "source": []
  },
  {
   "cell_type": "code",
   "execution_count": 13,
   "metadata": {},
   "outputs": [
    {
     "data": {
      "text/plain": [
       "Area                             5.092390\n",
       "Production                      21.255071\n",
       "Rainfall                         1.130601\n",
       "Temperature                     -0.831871\n",
       "pH                               0.002311\n",
       "Nitrogen(kg/ha)                 -0.001419\n",
       "ElectricalConductivity(ds/m)    -0.000270\n",
       "dtype: float64"
      ]
     },
     "execution_count": 13,
     "metadata": {},
     "output_type": "execute_result"
    }
   ],
   "source": [
    "df_train.skew()"
   ]
  },
  {
   "cell_type": "code",
   "execution_count": 14,
   "metadata": {},
   "outputs": [
    {
     "data": {
      "text/html": [
       "<div>\n",
       "<style scoped>\n",
       "    .dataframe tbody tr th:only-of-type {\n",
       "        vertical-align: middle;\n",
       "    }\n",
       "\n",
       "    .dataframe tbody tr th {\n",
       "        vertical-align: top;\n",
       "    }\n",
       "\n",
       "    .dataframe thead th {\n",
       "        text-align: right;\n",
       "    }\n",
       "</style>\n",
       "<table border=\"1\" class=\"dataframe\">\n",
       "  <thead>\n",
       "    <tr style=\"text-align: right;\">\n",
       "      <th></th>\n",
       "      <th>Area</th>\n",
       "      <th>Production</th>\n",
       "      <th>Rainfall</th>\n",
       "      <th>Temperature</th>\n",
       "      <th>pH</th>\n",
       "      <th>Nitrogen(kg/ha)</th>\n",
       "      <th>ElectricalConductivity(ds/m)</th>\n",
       "    </tr>\n",
       "  </thead>\n",
       "  <tbody>\n",
       "    <tr>\n",
       "      <th>count</th>\n",
       "      <td>85225.000000</td>\n",
       "      <td>8.522500e+04</td>\n",
       "      <td>85225.000000</td>\n",
       "      <td>85225.000000</td>\n",
       "      <td>85225.000000</td>\n",
       "      <td>85225.000000</td>\n",
       "      <td>85225.000000</td>\n",
       "    </tr>\n",
       "    <tr>\n",
       "      <th>mean</th>\n",
       "      <td>16082.843264</td>\n",
       "      <td>7.613732e+04</td>\n",
       "      <td>114.042007</td>\n",
       "      <td>25.474624</td>\n",
       "      <td>6.248319</td>\n",
       "      <td>350.157207</td>\n",
       "      <td>3.399781</td>\n",
       "    </tr>\n",
       "    <tr>\n",
       "      <th>std</th>\n",
       "      <td>41257.777752</td>\n",
       "      <td>5.501601e+05</td>\n",
       "      <td>90.199928</td>\n",
       "      <td>3.465730</td>\n",
       "      <td>0.722351</td>\n",
       "      <td>86.445530</td>\n",
       "      <td>1.326858</td>\n",
       "    </tr>\n",
       "    <tr>\n",
       "      <th>min</th>\n",
       "      <td>0.580000</td>\n",
       "      <td>0.000000e+00</td>\n",
       "      <td>0.023250</td>\n",
       "      <td>-1.243750</td>\n",
       "      <td>5.000000</td>\n",
       "      <td>200.000000</td>\n",
       "      <td>1.100000</td>\n",
       "    </tr>\n",
       "    <tr>\n",
       "      <th>25%</th>\n",
       "      <td>166.000000</td>\n",
       "      <td>2.000000e+02</td>\n",
       "      <td>38.234250</td>\n",
       "      <td>23.132750</td>\n",
       "      <td>5.600000</td>\n",
       "      <td>275.000000</td>\n",
       "      <td>2.300000</td>\n",
       "    </tr>\n",
       "    <tr>\n",
       "      <th>50%</th>\n",
       "      <td>1200.000000</td>\n",
       "      <td>1.843000e+03</td>\n",
       "      <td>99.685333</td>\n",
       "      <td>26.457000</td>\n",
       "      <td>6.200000</td>\n",
       "      <td>350.000000</td>\n",
       "      <td>3.400000</td>\n",
       "    </tr>\n",
       "    <tr>\n",
       "      <th>75%</th>\n",
       "      <td>9383.000000</td>\n",
       "      <td>1.775100e+04</td>\n",
       "      <td>169.448667</td>\n",
       "      <td>28.116000</td>\n",
       "      <td>6.900000</td>\n",
       "      <td>425.000000</td>\n",
       "      <td>4.600000</td>\n",
       "    </tr>\n",
       "    <tr>\n",
       "      <th>max</th>\n",
       "      <td>814077.000000</td>\n",
       "      <td>2.832200e+07</td>\n",
       "      <td>830.300333</td>\n",
       "      <td>33.284000</td>\n",
       "      <td>7.500000</td>\n",
       "      <td>500.000000</td>\n",
       "      <td>5.700000</td>\n",
       "    </tr>\n",
       "  </tbody>\n",
       "</table>\n",
       "</div>"
      ],
      "text/plain": [
       "                Area    Production      Rainfall   Temperature            pH  \\\n",
       "count   85225.000000  8.522500e+04  85225.000000  85225.000000  85225.000000   \n",
       "mean    16082.843264  7.613732e+04    114.042007     25.474624      6.248319   \n",
       "std     41257.777752  5.501601e+05     90.199928      3.465730      0.722351   \n",
       "min         0.580000  0.000000e+00      0.023250     -1.243750      5.000000   \n",
       "25%       166.000000  2.000000e+02     38.234250     23.132750      5.600000   \n",
       "50%      1200.000000  1.843000e+03     99.685333     26.457000      6.200000   \n",
       "75%      9383.000000  1.775100e+04    169.448667     28.116000      6.900000   \n",
       "max    814077.000000  2.832200e+07    830.300333     33.284000      7.500000   \n",
       "\n",
       "       Nitrogen(kg/ha)  ElectricalConductivity(ds/m)  \n",
       "count     85225.000000                  85225.000000  \n",
       "mean        350.157207                      3.399781  \n",
       "std          86.445530                      1.326858  \n",
       "min         200.000000                      1.100000  \n",
       "25%         275.000000                      2.300000  \n",
       "50%         350.000000                      3.400000  \n",
       "75%         425.000000                      4.600000  \n",
       "max         500.000000                      5.700000  "
      ]
     },
     "execution_count": 14,
     "metadata": {},
     "output_type": "execute_result"
    }
   ],
   "source": [
    "df_train.describe()\n"
   ]
  },
  {
   "cell_type": "markdown",
   "metadata": {},
   "source": [
    "# As We Can see that our target Vriable is Highly skewed, so applying some transformation to remove the skewness"
   ]
  },
  {
   "cell_type": "code",
   "execution_count": 15,
   "metadata": {},
   "outputs": [],
   "source": [
    "df_train['Production']=pd.Series(np.sqrt(df_train['Production']))\n"
   ]
  },
  {
   "cell_type": "code",
   "execution_count": 16,
   "metadata": {},
   "outputs": [
    {
     "data": {
      "text/plain": [
       "6.36295872006471"
      ]
     },
     "execution_count": 16,
     "metadata": {},
     "output_type": "execute_result"
    }
   ],
   "source": [
    "df_train[\"Production\"].skew()"
   ]
  },
  {
   "cell_type": "code",
   "execution_count": 17,
   "metadata": {},
   "outputs": [
    {
     "data": {
      "text/plain": [
       "Area                            5.092390\n",
       "Production                      6.362959\n",
       "Rainfall                        1.130601\n",
       "Temperature                    -0.831871\n",
       "pH                              0.002311\n",
       "Nitrogen(kg/ha)                -0.001419\n",
       "ElectricalConductivity(ds/m)   -0.000270\n",
       "dtype: float64"
      ]
     },
     "execution_count": 17,
     "metadata": {},
     "output_type": "execute_result"
    }
   ],
   "source": [
    "df_train.skew()"
   ]
  },
  {
   "cell_type": "code",
   "execution_count": null,
   "metadata": {},
   "outputs": [],
   "source": []
  },
  {
   "cell_type": "code",
   "execution_count": 100,
   "metadata": {},
   "outputs": [
    {
     "data": {
      "text/plain": [
       "Area                            5.578947\n",
       "Rainfall                        1.140426\n",
       "Season                          0.753235\n",
       "Temperature                    -0.825348\n",
       "Crop                            0.007647\n",
       "Nitrogen(kg/ha)                -0.007730\n",
       "ElectricalConductivity(ds/m)   -0.005516\n",
       "pH                             -0.014586\n",
       "dtype: float64"
      ]
     },
     "execution_count": 100,
     "metadata": {},
     "output_type": "execute_result"
    }
   ],
   "source": [
    "df_test.skew()"
   ]
  },
  {
   "cell_type": "code",
   "execution_count": 24,
   "metadata": {},
   "outputs": [
    {
     "data": {
      "text/plain": [
       "<matplotlib.axes._subplots.AxesSubplot at 0x7f8697b81390>"
      ]
     },
     "execution_count": 24,
     "metadata": {},
     "output_type": "execute_result"
    },
    {
     "data": {
      "image/png": "[encoded data removed]",
      "text/plain": [
       "<Figure size 432x288 with 1 Axes>"
      ]
     },
     "metadata": {
      "needs_background": "light"
     },
     "output_type": "display_data"
    }
   ],
   "source": [
    "#Checking prodcution for each sesaon\n",
    "df_train.groupby(\"Season\")[[\"Production\"]].sum().plot()"
   ]
  },
  {
   "cell_type": "code",
   "execution_count": 26,
   "metadata": {},
   "outputs": [
    {
     "data": {
      "text/plain": [
       "<matplotlib.axes._subplots.AxesSubplot at 0x7f8697cebdd8>"
      ]
     },
     "execution_count": 26,
     "metadata": {},
     "output_type": "execute_result"
    },
    {
     "data": {
      "image/png": "[encoded data removed]",
      "text/plain": [
       "<Figure size 432x288 with 1 Axes>"
      ]
     },
     "metadata": {
      "needs_background": "light"
     },
     "output_type": "display_data"
    }
   ],
   "source": [
    "#Checking Rainfall for each sesaon\n",
    "df_train.groupby(\"Season\")[[\"Rainfall\"]].sum().plot()"
   ]
  },
  {
   "cell_type": "code",
   "execution_count": 27,
   "metadata": {},
   "outputs": [
    {
     "data": {
      "text/plain": [
       "Area                            0\n",
       "Production                      0\n",
       "Rainfall                        0\n",
       "Season                          0\n",
       "Temperature                     0\n",
       "Crop                            0\n",
       "pH                              0\n",
       "Nitrogen(kg/ha)                 0\n",
       "ElectricalConductivity(ds/m)    0\n",
       "dtype: int64"
      ]
     },
     "execution_count": 27,
     "metadata": {},
     "output_type": "execute_result"
    }
   ],
   "source": [
    "#checking if null value is present or not\n",
    "df_train.isna().sum()"
   ]
  },
  {
   "cell_type": "code",
   "execution_count": 28,
   "metadata": {},
   "outputs": [
    {
     "data": {
      "text/plain": [
       "Area                            0\n",
       "Production                      0\n",
       "Rainfall                        0\n",
       "Season                          0\n",
       "Temperature                     0\n",
       "Crop                            0\n",
       "Nitrogen(kg/ha)                 0\n",
       "ElectricalConductivity(ds/m)    0\n",
       "pH                              0\n",
       "dtype: int64"
      ]
     },
     "execution_count": 28,
     "metadata": {},
     "output_type": "execute_result"
    }
   ],
   "source": [
    "df_test.isna().sum()"
   ]
  },
  {
   "cell_type": "code",
   "execution_count": 29,
   "metadata": {},
   "outputs": [
    {
     "data": {
      "text/plain": [
       "<matplotlib.axes._subplots.AxesSubplot at 0x7f86978c7c50>"
      ]
     },
     "execution_count": 29,
     "metadata": {},
     "output_type": "execute_result"
    },
    {
     "data": {
      "image/png": "[encoded data removed]",
      "text/plain": [
       "<Figure size 432x288 with 1 Axes>"
      ]
     },
     "metadata": {
      "needs_background": "light"
     },
     "output_type": "display_data"
    }
   ],
   "source": [
    "sns.heatmap(df_train.isnull(), cbar=False)\n",
    "#as we can se no missing values in our dataset"
   ]
  },
  {
   "cell_type": "code",
   "execution_count": 32,
   "metadata": {},
   "outputs": [
    {
     "data": {
      "text/plain": [
       "<matplotlib.axes._subplots.AxesSubplot at 0x7f86979a4128>"
      ]
     },
     "execution_count": 32,
     "metadata": {},
     "output_type": "execute_result"
    },
    {
     "data": {
      "image/png": "[encoded data removed]",
      "text/plain": [
       "<Figure size 432x288 with 1 Axes>"
      ]
     },
     "metadata": {
      "needs_background": "light"
     },
     "output_type": "display_data"
    }
   ],
   "source": [
    "sns.heatmap(df_test.isnull(), cbar=False)"
   ]
  },
  {
   "cell_type": "code",
   "execution_count": 33,
   "metadata": {},
   "outputs": [
    {
     "data": {
      "text/plain": [
       "Area                            float64\n",
       "Production                      float64\n",
       "Rainfall                        float64\n",
       "Season                           object\n",
       "Temperature                     float64\n",
       "Crop                             object\n",
       "pH                              float64\n",
       "Nitrogen(kg/ha)                 float64\n",
       "ElectricalConductivity(ds/m)    float64\n",
       "dtype: object"
      ]
     },
     "execution_count": 33,
     "metadata": {},
     "output_type": "execute_result"
    }
   ],
   "source": [
    "#checking the data types of columns\n",
    "#We can see that we have two columns \n",
    "df_train.dtypes"
   ]
  },
  {
   "cell_type": "markdown",
   "metadata": {},
   "source": [
    "# WE can see that we have two columns Season and Crop as Categorical Values"
   ]
  },
  {
   "cell_type": "code",
   "execution_count": null,
   "metadata": {},
   "outputs": [],
   "source": []
  },
  {
   "cell_type": "code",
   "execution_count": 34,
   "metadata": {},
   "outputs": [],
   "source": [
    "#Storing our target Variable\n",
    "y_train = df_train['Production']\n",
    "y_test = df_test['Production']\n",
    "df_train = df_train.drop(['Production'], axis=1)\n",
    "df_test = df_test.drop(['Production'], axis=1)"
   ]
  },
  {
   "cell_type": "code",
   "execution_count": 35,
   "metadata": {},
   "outputs": [
    {
     "data": {
      "text/html": [
       "<div>\n",
       "<style scoped>\n",
       "    .dataframe tbody tr th:only-of-type {\n",
       "        vertical-align: middle;\n",
       "    }\n",
       "\n",
       "    .dataframe tbody tr th {\n",
       "        vertical-align: top;\n",
       "    }\n",
       "\n",
       "    .dataframe thead th {\n",
       "        text-align: right;\n",
       "    }\n",
       "</style>\n",
       "<table border=\"1\" class=\"dataframe\">\n",
       "  <thead>\n",
       "    <tr style=\"text-align: right;\">\n",
       "      <th></th>\n",
       "      <th>Area</th>\n",
       "      <th>Rainfall</th>\n",
       "      <th>Season</th>\n",
       "      <th>Temperature</th>\n",
       "      <th>Crop</th>\n",
       "      <th>pH</th>\n",
       "      <th>Nitrogen(kg/ha)</th>\n",
       "      <th>ElectricalConductivity(ds/m)</th>\n",
       "    </tr>\n",
       "  </thead>\n",
       "  <tbody>\n",
       "    <tr>\n",
       "      <th>0</th>\n",
       "      <td>7800.0</td>\n",
       "      <td>30.400333</td>\n",
       "      <td>Kharif</td>\n",
       "      <td>28.007000</td>\n",
       "      <td>Moong(Green Gram)</td>\n",
       "      <td>6.5</td>\n",
       "      <td>497.0</td>\n",
       "      <td>4.1</td>\n",
       "    </tr>\n",
       "    <tr>\n",
       "      <th>1</th>\n",
       "      <td>39922.0</td>\n",
       "      <td>111.901000</td>\n",
       "      <td>Kharif</td>\n",
       "      <td>27.232333</td>\n",
       "      <td>Maize</td>\n",
       "      <td>5.6</td>\n",
       "      <td>473.0</td>\n",
       "      <td>3.9</td>\n",
       "    </tr>\n",
       "    <tr>\n",
       "      <th>2</th>\n",
       "      <td>44656.0</td>\n",
       "      <td>3.396500</td>\n",
       "      <td>Rabi</td>\n",
       "      <td>20.277000</td>\n",
       "      <td>Wheat</td>\n",
       "      <td>7.3</td>\n",
       "      <td>366.0</td>\n",
       "      <td>4.9</td>\n",
       "    </tr>\n",
       "    <tr>\n",
       "      <th>3</th>\n",
       "      <td>6540.0</td>\n",
       "      <td>30.932500</td>\n",
       "      <td>Rabi</td>\n",
       "      <td>24.241500</td>\n",
       "      <td>Wheat</td>\n",
       "      <td>5.3</td>\n",
       "      <td>417.0</td>\n",
       "      <td>3.8</td>\n",
       "    </tr>\n",
       "    <tr>\n",
       "      <th>4</th>\n",
       "      <td>2911.0</td>\n",
       "      <td>189.208333</td>\n",
       "      <td>Kharif</td>\n",
       "      <td>27.456333</td>\n",
       "      <td>Maize</td>\n",
       "      <td>6.3</td>\n",
       "      <td>267.0</td>\n",
       "      <td>3.5</td>\n",
       "    </tr>\n",
       "    <tr>\n",
       "      <th>5</th>\n",
       "      <td>7.0</td>\n",
       "      <td>21.609750</td>\n",
       "      <td>Rabi</td>\n",
       "      <td>23.570000</td>\n",
       "      <td>Moong(Green Gram)</td>\n",
       "      <td>6.3</td>\n",
       "      <td>435.0</td>\n",
       "      <td>3.4</td>\n",
       "    </tr>\n",
       "    <tr>\n",
       "      <th>6</th>\n",
       "      <td>18.0</td>\n",
       "      <td>206.319750</td>\n",
       "      <td>Summer</td>\n",
       "      <td>28.760250</td>\n",
       "      <td>Groundnut</td>\n",
       "      <td>5.8</td>\n",
       "      <td>370.0</td>\n",
       "      <td>2.0</td>\n",
       "    </tr>\n",
       "    <tr>\n",
       "      <th>7</th>\n",
       "      <td>39157.0</td>\n",
       "      <td>186.938333</td>\n",
       "      <td>Kharif</td>\n",
       "      <td>27.940667</td>\n",
       "      <td>Sugarcane</td>\n",
       "      <td>5.1</td>\n",
       "      <td>312.0</td>\n",
       "      <td>5.3</td>\n",
       "    </tr>\n",
       "    <tr>\n",
       "      <th>8</th>\n",
       "      <td>10562.0</td>\n",
       "      <td>81.593333</td>\n",
       "      <td>Kharif</td>\n",
       "      <td>26.181000</td>\n",
       "      <td>Jowar</td>\n",
       "      <td>7.1</td>\n",
       "      <td>334.0</td>\n",
       "      <td>3.8</td>\n",
       "    </tr>\n",
       "    <tr>\n",
       "      <th>9</th>\n",
       "      <td>179.0</td>\n",
       "      <td>68.501750</td>\n",
       "      <td>Rabi</td>\n",
       "      <td>24.139750</td>\n",
       "      <td>Potato</td>\n",
       "      <td>6.8</td>\n",
       "      <td>365.0</td>\n",
       "      <td>2.9</td>\n",
       "    </tr>\n",
       "  </tbody>\n",
       "</table>\n",
       "</div>"
      ],
      "text/plain": [
       "      Area    Rainfall  Season  Temperature               Crop   pH  \\\n",
       "0   7800.0   30.400333  Kharif    28.007000  Moong(Green Gram)  6.5   \n",
       "1  39922.0  111.901000  Kharif    27.232333              Maize  5.6   \n",
       "2  44656.0    3.396500    Rabi    20.277000              Wheat  7.3   \n",
       "3   6540.0   30.932500    Rabi    24.241500              Wheat  5.3   \n",
       "4   2911.0  189.208333  Kharif    27.456333              Maize  6.3   \n",
       "5      7.0   21.609750    Rabi    23.570000  Moong(Green Gram)  6.3   \n",
       "6     18.0  206.319750  Summer    28.760250          Groundnut  5.8   \n",
       "7  39157.0  186.938333  Kharif    27.940667          Sugarcane  5.1   \n",
       "8  10562.0   81.593333  Kharif    26.181000              Jowar  7.1   \n",
       "9    179.0   68.501750    Rabi    24.139750             Potato  6.8   \n",
       "\n",
       "   Nitrogen(kg/ha)  ElectricalConductivity(ds/m)  \n",
       "0            497.0                           4.1  \n",
       "1            473.0                           3.9  \n",
       "2            366.0                           4.9  \n",
       "3            417.0                           3.8  \n",
       "4            267.0                           3.5  \n",
       "5            435.0                           3.4  \n",
       "6            370.0                           2.0  \n",
       "7            312.0                           5.3  \n",
       "8            334.0                           3.8  \n",
       "9            365.0                           2.9  "
      ]
     },
     "execution_count": 35,
     "metadata": {},
     "output_type": "execute_result"
    }
   ],
   "source": [
    "df_train.head(10)"
   ]
  },
  {
   "cell_type": "code",
   "execution_count": 36,
   "metadata": {},
   "outputs": [
    {
     "data": {
      "text/plain": [
       "Index(['Area', 'Rainfall', 'Season', 'Temperature', 'Crop', 'pH',\n",
       "       'Nitrogen(kg/ha)', 'ElectricalConductivity(ds/m)'],\n",
       "      dtype='object')"
      ]
     },
     "execution_count": 36,
     "metadata": {},
     "output_type": "execute_result"
    }
   ],
   "source": [
    "df_train.columns"
   ]
  },
  {
   "cell_type": "code",
   "execution_count": 37,
   "metadata": {},
   "outputs": [],
   "source": [
    "cr = LabelEncoder()\n",
    "se = LabelEncoder()\n",
    "df_train['Season'] = se.fit_transform(df_train['Season'])\n",
    "df_train['Crop'] = cr.fit_transform(df_train['Crop'])\n",
    "df_test['Season'] = se.transform(df_test['Season'])\n",
    "df_test['Crop'] = cr.transform(df_test['Crop'])\n"
   ]
  },
  {
   "cell_type": "code",
   "execution_count": 38,
   "metadata": {},
   "outputs": [
    {
     "data": {
      "text/html": [
       "<div>\n",
       "<style scoped>\n",
       "    .dataframe tbody tr th:only-of-type {\n",
       "        vertical-align: middle;\n",
       "    }\n",
       "\n",
       "    .dataframe tbody tr th {\n",
       "        vertical-align: top;\n",
       "    }\n",
       "\n",
       "    .dataframe thead th {\n",
       "        text-align: right;\n",
       "    }\n",
       "</style>\n",
       "<table border=\"1\" class=\"dataframe\">\n",
       "  <thead>\n",
       "    <tr style=\"text-align: right;\">\n",
       "      <th></th>\n",
       "      <th>Area</th>\n",
       "      <th>Rainfall</th>\n",
       "      <th>Season</th>\n",
       "      <th>Temperature</th>\n",
       "      <th>Crop</th>\n",
       "      <th>pH</th>\n",
       "      <th>Nitrogen(kg/ha)</th>\n",
       "      <th>ElectricalConductivity(ds/m)</th>\n",
       "    </tr>\n",
       "  </thead>\n",
       "  <tbody>\n",
       "    <tr>\n",
       "      <th>0</th>\n",
       "      <td>7800.0</td>\n",
       "      <td>30.400333</td>\n",
       "      <td>1</td>\n",
       "      <td>28.007000</td>\n",
       "      <td>6</td>\n",
       "      <td>6.5</td>\n",
       "      <td>497.0</td>\n",
       "      <td>4.1</td>\n",
       "    </tr>\n",
       "    <tr>\n",
       "      <th>1</th>\n",
       "      <td>39922.0</td>\n",
       "      <td>111.901000</td>\n",
       "      <td>1</td>\n",
       "      <td>27.232333</td>\n",
       "      <td>5</td>\n",
       "      <td>5.6</td>\n",
       "      <td>473.0</td>\n",
       "      <td>3.9</td>\n",
       "    </tr>\n",
       "    <tr>\n",
       "      <th>2</th>\n",
       "      <td>44656.0</td>\n",
       "      <td>3.396500</td>\n",
       "      <td>2</td>\n",
       "      <td>20.277000</td>\n",
       "      <td>14</td>\n",
       "      <td>7.3</td>\n",
       "      <td>366.0</td>\n",
       "      <td>4.9</td>\n",
       "    </tr>\n",
       "    <tr>\n",
       "      <th>3</th>\n",
       "      <td>6540.0</td>\n",
       "      <td>30.932500</td>\n",
       "      <td>2</td>\n",
       "      <td>24.241500</td>\n",
       "      <td>14</td>\n",
       "      <td>5.3</td>\n",
       "      <td>417.0</td>\n",
       "      <td>3.8</td>\n",
       "    </tr>\n",
       "    <tr>\n",
       "      <th>4</th>\n",
       "      <td>2911.0</td>\n",
       "      <td>189.208333</td>\n",
       "      <td>1</td>\n",
       "      <td>27.456333</td>\n",
       "      <td>5</td>\n",
       "      <td>6.3</td>\n",
       "      <td>267.0</td>\n",
       "      <td>3.5</td>\n",
       "    </tr>\n",
       "  </tbody>\n",
       "</table>\n",
       "</div>"
      ],
      "text/plain": [
       "      Area    Rainfall  Season  Temperature  Crop   pH  Nitrogen(kg/ha)  \\\n",
       "0   7800.0   30.400333       1    28.007000     6  6.5            497.0   \n",
       "1  39922.0  111.901000       1    27.232333     5  5.6            473.0   \n",
       "2  44656.0    3.396500       2    20.277000    14  7.3            366.0   \n",
       "3   6540.0   30.932500       2    24.241500    14  5.3            417.0   \n",
       "4   2911.0  189.208333       1    27.456333     5  6.3            267.0   \n",
       "\n",
       "   ElectricalConductivity(ds/m)  \n",
       "0                           4.1  \n",
       "1                           3.9  \n",
       "2                           4.9  \n",
       "3                           3.8  \n",
       "4                           3.5  "
      ]
     },
     "execution_count": 38,
     "metadata": {},
     "output_type": "execute_result"
    }
   ],
   "source": [
    "df_train.head()"
   ]
  },
  {
   "cell_type": "markdown",
   "metadata": {},
   "source": [
    "#      WE can see that we have only encoded the values using Labelencoder ,however categories are more than two"
   ]
  },
  {
   "cell_type": "code",
   "execution_count": 39,
   "metadata": {},
   "outputs": [
    {
     "data": {
      "text/plain": [
       "6"
      ]
     },
     "execution_count": 39,
     "metadata": {},
     "output_type": "execute_result"
    }
   ],
   "source": [
    "df_train[\"Season\"].nunique()\n",
    "#So We have 6 categories of Season"
   ]
  },
  {
   "cell_type": "code",
   "execution_count": 40,
   "metadata": {},
   "outputs": [
    {
     "data": {
      "text/plain": [
       "15"
      ]
     },
     "execution_count": 40,
     "metadata": {},
     "output_type": "execute_result"
    }
   ],
   "source": [
    "df_train[\"Crop\"].nunique()"
   ]
  },
  {
   "cell_type": "code",
   "execution_count": 41,
   "metadata": {},
   "outputs": [],
   "source": [
    "\n",
    "X_train = df_train.values"
   ]
  },
  {
   "cell_type": "code",
   "execution_count": 42,
   "metadata": {},
   "outputs": [
    {
     "name": "stderr",
     "output_type": "stream",
     "text": [
      "/home/neelesh/anaconda3/lib/python3.7/site-packages/sklearn/preprocessing/_encoders.py:371: FutureWarning: The handling of integer data will change in version 0.22. Currently, the categories are determined based on the range [0, max(values)], while in the future they will be determined based on the unique values.\n",
      "If you want the future behaviour and silence this warning, you can specify \"categories='auto'\".\n",
      "In case you used a LabelEncoder before this OneHotEncoder to convert the categories to integers, then you can now use the OneHotEncoder directly.\n",
      "  warnings.warn(msg, FutureWarning)\n",
      "/home/neelesh/anaconda3/lib/python3.7/site-packages/sklearn/preprocessing/_encoders.py:392: DeprecationWarning: The 'categorical_features' keyword is deprecated in version 0.20 and will be removed in 0.22. You can use the ColumnTransformer instead.\n",
      "  \"use the ColumnTransformer instead.\", DeprecationWarning)\n"
     ]
    }
   ],
   "source": [
    "from sklearn.preprocessing import OneHotEncoder\n",
    "one1=OneHotEncoder(categorical_features=[2])\n",
    "X_train=one1.fit_transform(X_train).toarray()"
   ]
  },
  {
   "cell_type": "code",
   "execution_count": 43,
   "metadata": {},
   "outputs": [
    {
     "data": {
      "text/plain": [
       "13"
      ]
     },
     "execution_count": 43,
     "metadata": {},
     "output_type": "execute_result"
    }
   ],
   "source": [
    "len(X_train[0])\n"
   ]
  },
  {
   "cell_type": "markdown",
   "metadata": {},
   "source": [
    "# WE can See that We have now 13 columns it is because the 6 values of Season column are added it into it(8(previously)+5(new columns))"
   ]
  },
  {
   "cell_type": "code",
   "execution_count": 44,
   "metadata": {},
   "outputs": [],
   "source": [
    "X_train[0]\n",
    "#to not fall in dummy varibale trap\n",
    "X_train=X_train[:,1:]\n",
    "#I have removed one column"
   ]
  },
  {
   "cell_type": "code",
   "execution_count": 45,
   "metadata": {},
   "outputs": [
    {
     "data": {
      "text/plain": [
       "12"
      ]
     },
     "execution_count": 45,
     "metadata": {},
     "output_type": "execute_result"
    }
   ],
   "source": [
    "len(X_train[0])"
   ]
  },
  {
   "cell_type": "code",
   "execution_count": null,
   "metadata": {},
   "outputs": [],
   "source": []
  },
  {
   "cell_type": "code",
   "execution_count": 46,
   "metadata": {},
   "outputs": [],
   "source": [
    "X_test = df_test.values"
   ]
  },
  {
   "cell_type": "code",
   "execution_count": 47,
   "metadata": {},
   "outputs": [
    {
     "name": "stderr",
     "output_type": "stream",
     "text": [
      "/home/neelesh/anaconda3/lib/python3.7/site-packages/sklearn/preprocessing/_encoders.py:371: FutureWarning: The handling of integer data will change in version 0.22. Currently, the categories are determined based on the range [0, max(values)], while in the future they will be determined based on the unique values.\n",
      "If you want the future behaviour and silence this warning, you can specify \"categories='auto'\".\n",
      "In case you used a LabelEncoder before this OneHotEncoder to convert the categories to integers, then you can now use the OneHotEncoder directly.\n",
      "  warnings.warn(msg, FutureWarning)\n",
      "/home/neelesh/anaconda3/lib/python3.7/site-packages/sklearn/preprocessing/_encoders.py:392: DeprecationWarning: The 'categorical_features' keyword is deprecated in version 0.20 and will be removed in 0.22. You can use the ColumnTransformer instead.\n",
      "  \"use the ColumnTransformer instead.\", DeprecationWarning)\n"
     ]
    }
   ],
   "source": [
    "from sklearn.preprocessing import OneHotEncoder\n",
    "one2=OneHotEncoder(categorical_features=[2])\n",
    "X_test=one2.fit_transform(X_test).toarray()"
   ]
  },
  {
   "cell_type": "code",
   "execution_count": 48,
   "metadata": {},
   "outputs": [],
   "source": [
    "X_test=X_test[:,1:]\n"
   ]
  },
  {
   "cell_type": "code",
   "execution_count": 49,
   "metadata": {},
   "outputs": [
    {
     "data": {
      "text/plain": [
       "12"
      ]
     },
     "execution_count": 49,
     "metadata": {},
     "output_type": "execute_result"
    }
   ],
   "source": [
    "len(X_test[0])"
   ]
  },
  {
   "cell_type": "code",
   "execution_count": 50,
   "metadata": {},
   "outputs": [
    {
     "data": {
      "text/plain": [
       "<matplotlib.axes._subplots.AxesSubplot at 0x7f8697b2c4a8>"
      ]
     },
     "execution_count": 50,
     "metadata": {},
     "output_type": "execute_result"
    },
    {
     "data": {
      "image/png": "[encoded data removed]",
      "text/plain": [
       "<Figure size 432x288 with 1 Axes>"
      ]
     },
     "metadata": {
      "needs_background": "light"
     },
     "output_type": "display_data"
    }
   ],
   "source": [
    "# Checking Rainfall for each sesaon\n",
    "df_train.groupby(\"Season\")[[\"Rainfall\"]].sum().plot()"
   ]
  },
  {
   "cell_type": "code",
   "execution_count": null,
   "metadata": {},
   "outputs": [],
   "source": []
  },
  {
   "cell_type": "markdown",
   "metadata": {},
   "source": [
    "# Since the Values are not normally distibuted we have to noramlize the values"
   ]
  },
  {
   "cell_type": "code",
   "execution_count": 51,
   "metadata": {},
   "outputs": [],
   "source": [
    "from sklearn.preprocessing import StandardScaler\n",
    "sc1=StandardScaler()\n",
    "X_train=sc1.fit_transform(X_train)\n",
    "X_test=sc1.transform(X_test)\n"
   ]
  },
  {
   "cell_type": "markdown",
   "metadata": {},
   "source": [
    "# Applying Algorithms"
   ]
  },
  {
   "cell_type": "code",
   "execution_count": null,
   "metadata": {},
   "outputs": [],
   "source": []
  },
  {
   "cell_type": "code",
   "execution_count": 52,
   "metadata": {},
   "outputs": [],
   "source": [
    "\n",
    "from sklearn.ensemble import RandomForestRegressor\n",
    "best_clf = RandomForestRegressor()\n"
   ]
  },
  {
   "cell_type": "code",
   "execution_count": 53,
   "metadata": {},
   "outputs": [
    {
     "name": "stderr",
     "output_type": "stream",
     "text": [
      "/home/neelesh/anaconda3/lib/python3.7/site-packages/sklearn/ensemble/forest.py:246: FutureWarning: The default value of n_estimators will change from 10 in version 0.20 to 100 in 0.22.\n",
      "  \"10 in version 0.20 to 100 in 0.22.\", FutureWarning)\n"
     ]
    },
    {
     "data": {
      "text/plain": [
       "RandomForestRegressor(bootstrap=True, criterion='mse', max_depth=None,\n",
       "           max_features='auto', max_leaf_nodes=None,\n",
       "           min_impurity_decrease=0.0, min_impurity_split=None,\n",
       "           min_samples_leaf=1, min_samples_split=2,\n",
       "           min_weight_fraction_leaf=0.0, n_estimators=10, n_jobs=None,\n",
       "           oob_score=False, random_state=None, verbose=0, warm_start=False)"
      ]
     },
     "execution_count": 53,
     "metadata": {},
     "output_type": "execute_result"
    }
   ],
   "source": [
    "best_clf.fit(X_train, y_train)"
   ]
  },
  {
   "cell_type": "code",
   "execution_count": null,
   "metadata": {},
   "outputs": [],
   "source": []
  },
  {
   "cell_type": "code",
   "execution_count": 54,
   "metadata": {},
   "outputs": [
    {
     "name": "stdout",
     "output_type": "stream",
     "text": [
      "Requirement already satisfied: pydotplus in /home/neelesh/anaconda3/lib/python3.7/site-packages (2.0.2)\n",
      "Requirement already satisfied: pyparsing>=2.0.1 in /home/neelesh/anaconda3/lib/python3.7/site-packages (from pydotplus) (2.3.1)\n",
      "Note: you may need to restart the kernel to use updated packages.\n"
     ]
    }
   ],
   "source": [
    "pip install pydotplus"
   ]
  },
  {
   "cell_type": "code",
   "execution_count": null,
   "metadata": {},
   "outputs": [],
   "source": []
  },
  {
   "cell_type": "code",
   "execution_count": null,
   "metadata": {},
   "outputs": [],
   "source": []
  },
  {
   "cell_type": "code",
   "execution_count": null,
   "metadata": {},
   "outputs": [],
   "source": []
  },
  {
   "cell_type": "code",
   "execution_count": 56,
   "metadata": {},
   "outputs": [
    {
     "name": "stderr",
     "output_type": "stream",
     "text": [
      "/home/neelesh/anaconda3/lib/python3.7/site-packages/sklearn/ensemble/forest.py:246: FutureWarning: The default value of n_estimators will change from 10 in version 0.20 to 100 in 0.22.\n",
      "  \"10 in version 0.20 to 100 in 0.22.\", FutureWarning)\n"
     ]
    },
    {
     "data": {
      "image/png": "[encoded data removed]",
      "text/plain": [
       "<Figure size 576x396 with 1 Axes>"
      ]
     },
     "metadata": {},
     "output_type": "display_data"
    },
    {
     "data": {
      "text/plain": [
       "<matplotlib.axes._subplots.AxesSubplot at 0x7f869575d630>"
      ]
     },
     "execution_count": 56,
     "metadata": {},
     "output_type": "execute_result"
    }
   ],
   "source": [
    "from yellowbrick.regressor import PredictionError\n",
    "model=RandomForestRegressor()\n",
    "visualizer = PredictionError(model)\n",
    "\n",
    "visualizer.fit(X_train, y_train)  # Fit the training data to the visualizer\n",
    "visualizer.score(X_test, y_test)  # Evaluate the model on the test data\n",
    "visualizer.show()                 # Finalize and render the figure"
   ]
  },
  {
   "cell_type": "code",
   "execution_count": 57,
   "metadata": {},
   "outputs": [
    {
     "name": "stdout",
     "output_type": "stream",
     "text": [
      "80955.7328563376\n"
     ]
    }
   ],
   "source": [
    "mae_random_forest=mean_absolute_error(y_test,np.square(model.predict(X_test)))\n",
    "print(mae_random_forest)"
   ]
  },
  {
   "cell_type": "code",
   "execution_count": 58,
   "metadata": {},
   "outputs": [
    {
     "data": {
      "text/plain": [
       "DecisionTreeRegressor(criterion='mse', max_depth=None, max_features=None,\n",
       "           max_leaf_nodes=None, min_impurity_decrease=0.0,\n",
       "           min_impurity_split=None, min_samples_leaf=8,\n",
       "           min_samples_split=5, min_weight_fraction_leaf=0.0,\n",
       "           presort=False, random_state=None, splitter='best')"
      ]
     },
     "execution_count": 58,
     "metadata": {},
     "output_type": "execute_result"
    }
   ],
   "source": [
    "from sklearn.tree import DecisionTreeRegressor\n",
    "regressor=DecisionTreeRegressor(min_samples_split=5,min_samples_leaf=8)\n",
    "regressor.fit(X_train,y_train)"
   ]
  },
  {
   "cell_type": "code",
   "execution_count": 67,
   "metadata": {},
   "outputs": [
    {
     "name": "stdout",
     "output_type": "stream",
     "text": [
      "78585.34373374887\n"
     ]
    }
   ],
   "source": [
    "mae_decision_tree=mean_absolute_error(y_test,np.square(regressor.predict(X_test)))\n",
    "print(mae_decision_tree)"
   ]
  },
  {
   "cell_type": "code",
   "execution_count": 68,
   "metadata": {},
   "outputs": [
    {
     "data": {
      "image/png": "[encoded data removed]",
      "text/plain": [
       "<Figure size 576x396 with 1 Axes>"
      ]
     },
     "metadata": {},
     "output_type": "display_data"
    },
    {
     "data": {
      "text/plain": [
       "<matplotlib.axes._subplots.AxesSubplot at 0x7f86940b0400>"
      ]
     },
     "execution_count": 68,
     "metadata": {},
     "output_type": "execute_result"
    }
   ],
   "source": [
    "\n",
    "visualizer = PredictionError(regressor)\n",
    "visualizer.fit(X_train, y_train)  # Fit the training data to the visualizer\n",
    "visualizer.score(X_test, y_test)  # Evaluate the model on the test data\n",
    "visualizer.show()"
   ]
  },
  {
   "cell_type": "code",
   "execution_count": 69,
   "metadata": {},
   "outputs": [
    {
     "data": {
      "text/plain": [
       "GradientBoostingRegressor(alpha=0.9, criterion='friedman_mse', init=None,\n",
       "             learning_rate=0.1, loss='ls', max_depth=3, max_features=None,\n",
       "             max_leaf_nodes=None, min_impurity_decrease=0.0,\n",
       "             min_impurity_split=None, min_samples_leaf=1,\n",
       "             min_samples_split=2, min_weight_fraction_leaf=0.0,\n",
       "             n_estimators=100, n_iter_no_change=None, presort='auto',\n",
       "             random_state=None, subsample=1.0, tol=0.0001,\n",
       "             validation_fraction=0.1, verbose=0, warm_start=False)"
      ]
     },
     "execution_count": 69,
     "metadata": {},
     "output_type": "execute_result"
    }
   ],
   "source": [
    "from sklearn.ensemble import GradientBoostingRegressor\n",
    "grad=GradientBoostingRegressor()\n",
    "grad.fit(X_train,y_train)\n"
   ]
  },
  {
   "cell_type": "code",
   "execution_count": 62,
   "metadata": {},
   "outputs": [
    {
     "data": {
      "image/png": "[encoded data removed]",
      "text/plain": [
       "<Figure size 576x396 with 1 Axes>"
      ]
     },
     "metadata": {},
     "output_type": "display_data"
    },
    {
     "data": {
      "text/plain": [
       "<matplotlib.axes._subplots.AxesSubplot at 0x7f869410b9b0>"
      ]
     },
     "execution_count": 62,
     "metadata": {},
     "output_type": "execute_result"
    }
   ],
   "source": [
    "visualizer = PredictionError(grad)\n",
    "visualizer.fit(X_train, y_train)  # Fit the training data to the visualizer\n",
    "visualizer.score(X_test, y_test)  # Evaluate the model on the test data\n",
    "visualizer.show()"
   ]
  },
  {
   "cell_type": "code",
   "execution_count": 71,
   "metadata": {},
   "outputs": [
    {
     "name": "stdout",
     "output_type": "stream",
     "text": [
      "71591.36339425045\n"
     ]
    }
   ],
   "source": [
    "mae_gradient_regressor=mean_absolute_error(y_test,np.square(grad.predict(X_test)))\n",
    "print(mae_gradient_regressor)"
   ]
  },
  {
   "cell_type": "code",
   "execution_count": 72,
   "metadata": {},
   "outputs": [
    {
     "data": {
      "text/plain": [
       "LinearRegression(copy_X=True, fit_intercept=True, n_jobs=None, normalize=True)"
      ]
     },
     "execution_count": 72,
     "metadata": {},
     "output_type": "execute_result"
    }
   ],
   "source": [
    "from sklearn.linear_model import LinearRegression\n",
    "li=LinearRegression(normalize=True)\n",
    "li.fit(X_train,y_train)\n"
   ]
  },
  {
   "cell_type": "code",
   "execution_count": 73,
   "metadata": {},
   "outputs": [
    {
     "name": "stdout",
     "output_type": "stream",
     "text": [
      "28316.48782201958\n"
     ]
    }
   ],
   "source": [
    "print(mean_absolute_error(y_test,np.square(li.predict(X_test))))\n"
   ]
  },
  {
   "cell_type": "code",
   "execution_count": 74,
   "metadata": {},
   "outputs": [
    {
     "data": {
      "image/png": "[encoded data removed]",
      "text/plain": [
       "<Figure size 576x396 with 1 Axes>"
      ]
     },
     "metadata": {},
     "output_type": "display_data"
    },
    {
     "data": {
      "text/plain": [
       "<matplotlib.axes._subplots.AxesSubplot at 0x7f868f091da0>"
      ]
     },
     "execution_count": 74,
     "metadata": {},
     "output_type": "execute_result"
    }
   ],
   "source": [
    "visualizer = PredictionError(li)\n",
    "visualizer.fit(X_train, y_train)  # Fit the training data to the visualizer\n",
    "visualizer.score(X_test, y_test)  # Evaluate the model on the test data\n",
    "visualizer.show()\n"
   ]
  },
  {
   "cell_type": "code",
   "execution_count": 75,
   "metadata": {},
   "outputs": [
    {
     "data": {
      "text/plain": [
       "Lasso(alpha=1.0, copy_X=True, fit_intercept=True, max_iter=1000,\n",
       "   normalize=False, positive=False, precompute=False, random_state=None,\n",
       "   selection='cyclic', tol=0.0001, warm_start=False)"
      ]
     },
     "execution_count": 75,
     "metadata": {},
     "output_type": "execute_result"
    }
   ],
   "source": [
    "from sklearn.linear_model import Lasso\n",
    "Las=Lasso()\n",
    "Las.fit(X_train,y_train)\n"
   ]
  },
  {
   "cell_type": "code",
   "execution_count": 77,
   "metadata": {},
   "outputs": [
    {
     "name": "stdout",
     "output_type": "stream",
     "text": [
      "42047.029641008754\n"
     ]
    }
   ],
   "source": [
    "mae_lasso_regression=mean_absolute_error(y_test,np.square(Las.predict(X_test)))\n",
    "print(mae_lasso_regression)\n"
   ]
  },
  {
   "cell_type": "code",
   "execution_count": 78,
   "metadata": {},
   "outputs": [
    {
     "data": {
      "image/png": "[encoded data removed]",
      "text/plain": [
       "<Figure size 576x396 with 1 Axes>"
      ]
     },
     "metadata": {},
     "output_type": "display_data"
    },
    {
     "data": {
      "text/plain": [
       "<matplotlib.axes._subplots.AxesSubplot at 0x7f868f0436a0>"
      ]
     },
     "execution_count": 78,
     "metadata": {},
     "output_type": "execute_result"
    }
   ],
   "source": [
    "visualizer = PredictionError(Las)\n",
    "visualizer.fit(X_train, y_train)  # Fit the training data to the visualizer\n",
    "visualizer.score(X_test, y_test)  # Evaluate the model on the test data\n",
    "visualizer.show()\n"
   ]
  },
  {
   "cell_type": "code",
   "execution_count": null,
   "metadata": {},
   "outputs": [],
   "source": []
  },
  {
   "cell_type": "markdown",
   "metadata": {},
   "source": [
    "# Now Applying Hyperparameter Tuning \n",
    "# 1.Grid Search\n",
    "# 2.Random Search"
   ]
  },
  {
   "cell_type": "code",
   "execution_count": 84,
   "metadata": {},
   "outputs": [],
   "source": [
    "param_grid = { 'max_depth': [5,10],'min_samples_split':[4,8],'n_estimators':[100]}"
   ]
  },
  {
   "cell_type": "code",
   "execution_count": null,
   "metadata": {},
   "outputs": [],
   "source": [
    "from sklearn.model_selection import GridSearchCV\n",
    "search=GridSearchCV(grad,param_grid,cv=5)\n",
    "search.fit(X_train,y_train)"
   ]
  },
  {
   "cell_type": "code",
   "execution_count": 88,
   "metadata": {},
   "outputs": [],
   "source": [
    "random_parameters={'criterion':['mse','mae'],'min_samples_leaf':[2],\n",
    "           'min_samples_split':[2,4], 'min_weight_fraction_leaf':[0.1,0.2]}\n",
    "\n"
   ]
  },
  {
   "cell_type": "code",
   "execution_count": 89,
   "metadata": {},
   "outputs": [],
   "source": [
    "from sklearn.model_selection import RandomizedSearchCV\n",
    "random_search=RandomizedSearchCV(best_clf,random_parameters,cv=5)\n"
   ]
  },
  {
   "cell_type": "markdown",
   "metadata": {},
   "source": [
    "# Applying Deep Learning"
   ]
  },
  {
   "cell_type": "code",
   "execution_count": 90,
   "metadata": {},
   "outputs": [],
   "source": [
    "from keras import optimizers"
   ]
  },
  {
   "cell_type": "code",
   "execution_count": null,
   "metadata": {},
   "outputs": [],
   "source": []
  },
  {
   "cell_type": "code",
   "execution_count": 91,
   "metadata": {},
   "outputs": [],
   "source": [
    "sgd = optimizers.SGD(lr=0.1, clipnorm = 1, nesterov = True)\n",
    "model = Sequential()\n",
    "model.add(Dense(256, input_dim =12,activation='relu'))\n",
    "model.add(Dropout(0.2))\n",
    "model.add(Dense(128, activation='relu'))\n",
    "model.add(Dropout(0.3))\n",
    "model.add(Dense(64,activation='relu'))\n",
    "model.add(Dense(1, activation='relu'))\n",
    "model.compile(loss='mean_absolute_error', optimizer='nadam')"
   ]
  },
  {
   "cell_type": "code",
   "execution_count": 92,
   "metadata": {
    "scrolled": true
   },
   "outputs": [
    {
     "name": "stdout",
     "output_type": "stream",
     "text": [
      "Epoch 1/10\n",
      "85225/85225 [==============================] - 13s 158us/step - loss: 59.2701\n",
      "Epoch 2/10\n",
      "85225/85225 [==============================] - 13s 151us/step - loss: 50.3853\n",
      "Epoch 3/10\n",
      "85225/85225 [==============================] - 11s 125us/step - loss: 48.8055\n",
      "Epoch 4/10\n",
      "85225/85225 [==============================] - 11s 126us/step - loss: 47.8577\n",
      "Epoch 5/10\n",
      "85225/85225 [==============================] - 11s 126us/step - loss: 47.2745\n",
      "Epoch 6/10\n",
      "85225/85225 [==============================] - 11s 125us/step - loss: 46.7172\n",
      "Epoch 7/10\n",
      "85225/85225 [==============================] - 11s 128us/step - loss: 46.3170\n",
      "Epoch 8/10\n",
      "85225/85225 [==============================] - 11s 127us/step - loss: 45.9249\n",
      "Epoch 9/10\n",
      "85225/85225 [==============================] - 11s 129us/step - loss: 45.5981\n",
      "Epoch 10/10\n",
      "85225/85225 [==============================] - 11s 126us/step - loss: 45.1759\n"
     ]
    },
    {
     "data": {
      "text/plain": [
       "<keras.callbacks.callbacks.History at 0x7f868ea30ac8>"
      ]
     },
     "execution_count": 92,
     "metadata": {},
     "output_type": "execute_result"
    }
   ],
   "source": [
    "model.fit(X_train, y_train, epochs=10, batch_size=32)"
   ]
  },
  {
   "cell_type": "code",
   "execution_count": 94,
   "metadata": {},
   "outputs": [
    {
     "name": "stdout",
     "output_type": "stream",
     "text": [
      "80955.7328563376\n"
     ]
    }
   ],
   "source": [
    "ypredkeras = np.square(model.predict(X_test))\n",
    "mae_deep_learn=mean_absolute_error(y_test, ypredkeras)\n",
    "print(mae_random_forest)"
   ]
  },
  {
   "cell_type": "code",
   "execution_count": 99,
   "metadata": {},
   "outputs": [
    {
     "data": {
      "text/plain": [
       "1335.8454251896062"
      ]
     },
     "execution_count": 99,
     "metadata": {},
     "output_type": "execute_result"
    }
   ],
   "source": [
    "y_test[0]"
   ]
  },
  {
   "cell_type": "code",
   "execution_count": null,
   "metadata": {},
   "outputs": [],
   "source": [
    "# best mean_abs_error by using nadam as optimizer and scaled data. (51K)\n",
    "# ypredkeras = model.predict(x_testscaled)\n",
    "# mean_absolute_error(y_test, ypredkeras)"
   ]
  },
  {
   "cell_type": "markdown",
   "metadata": {},
   "source": [
    "# Using GridSearch to optimise randomforest:\n",
    "from sklearn.model_selection import GridSearchCV\n",
    "rfc = RandomForestRegressor(n_estimators=70, max_features='sqrt', oob_score=True)\n",
    "para_grid = {\n",
    "    'n_estimators' : [200, 500, 1200], \n",
    "    'max_features' : ['sqrt', 'log2', 'auto']\n",
    "}\n",
    "cv_rfc = GridSearchCV(estimator = rfc, param_grid = para_grid, cv = 3)\n",
    "cv_rfc.fit(x_train, y_train)"
   ]
  },
  {
   "cell_type": "markdown",
   "metadata": {},
   "source": [
    "from sklearn.linear_model import LinearRegression\n",
    "clf_linear = LinearRegression()\n",
    "clf_linear.fit(x_train, y_train)\n",
    "ypredlinear = clf_linear.predict(x_test)\n",
    "print(mean_absolute_error(y_test, ypredlinear))\n",
    "# on scaled data:\n",
    "clf_linearscaled = LinearRegression()\n",
    "clf_linearscaled.fit(x_trainscaled, y_train)\n",
    "ypredlinearscaled = clf_linearscaled.predict(x_testscaled)\n",
    "mean_absolute_error(y_test, ypredlinearscaled)"
   ]
  },
  {
   "cell_type": "code",
   "execution_count": 101,
   "metadata": {},
   "outputs": [],
   "source": [
    "#KNN neighbor\n",
    "from sklearn.neighbors import KNeighborsRegressor\n",
    "clfKNN = KNeighborsRegressor(n_neighbors = 500, algorithm = 'ball_tree')\n",
    "clfKNN.fit(X_train, y_train)\n",
    "ypredknn = clfKNN.predict(X_test)\n",
    "mae_KNN=mean_absolute_error(np.square(y_test), np.square(ypredknn))"
   ]
  },
  {
   "cell_type": "code",
   "execution_count": 102,
   "metadata": {},
   "outputs": [
    {
     "name": "stdout",
     "output_type": "stream",
     "text": [
      "79650.24389345224\n"
     ]
    }
   ],
   "source": [
    "print(mae_KNN)"
   ]
  },
  {
   "cell_type": "markdown",
   "metadata": {
    "scrolled": false
   },
   "source": [
    "# testing on diff neighbors:\n",
    "x_ax = []\n",
    "y_ax = []\n",
    "for i in range(10, 500, 30):\n",
    "    clfk = KNeighborsRegressor(n_neighbors = i, algorithm='ball_tree')\n",
    "    clfk.fit(x_trainscaled, y_train)\n",
    "    ypredk = clfk.predict(x_testscaled)\n",
    "    mae = mean_absolute_error(y_test, ypredk)\n",
    "    print(mae)\n",
    "    x_ax.append(i)\n",
    "    y_ax.append(mae)"
   ]
  },
  {
   "cell_type": "markdown",
   "metadata": {},
   "source": [
    "plt.plot(x_ax,y_ax)\n",
    "plt.xlabel('No Of Neighbors')\n",
    "plt.ylabel('Mean Absolute Error')"
   ]
  },
  {
   "cell_type": "markdown",
   "metadata": {},
   "source": [
    "df_test.head(10)"
   ]
  },
  {
   "cell_type": "code",
   "execution_count": 218,
   "metadata": {},
   "outputs": [],
   "source": [
    "test =  pd.read_csv(\"Updated_UttarPradesh.csv\")"
   ]
  },
  {
   "cell_type": "code",
   "execution_count": 219,
   "metadata": {},
   "outputs": [
    {
     "data": {
      "text/html": [
       "<div>\n",
       "<style scoped>\n",
       "    .dataframe tbody tr th:only-of-type {\n",
       "        vertical-align: middle;\n",
       "    }\n",
       "\n",
       "    .dataframe tbody tr th {\n",
       "        vertical-align: top;\n",
       "    }\n",
       "\n",
       "    .dataframe thead th {\n",
       "        text-align: right;\n",
       "    }\n",
       "</style>\n",
       "<table border=\"1\" class=\"dataframe\">\n",
       "  <thead>\n",
       "    <tr style=\"text-align: right;\">\n",
       "      <th></th>\n",
       "      <th>District</th>\n",
       "      <th>Year</th>\n",
       "      <th>Season</th>\n",
       "      <th>Crop</th>\n",
       "      <th>Area</th>\n",
       "      <th>Rainfall</th>\n",
       "      <th>Temprature</th>\n",
       "      <th>pH</th>\n",
       "      <th>Nitrogen(kg/ha)</th>\n",
       "      <th>ElectricalConductivity(ds/m)</th>\n",
       "    </tr>\n",
       "  </thead>\n",
       "  <tbody>\n",
       "    <tr>\n",
       "      <th>0</th>\n",
       "      <td>balrampur</td>\n",
       "      <td>2014</td>\n",
       "      <td>Kharif</td>\n",
       "      <td>Urad</td>\n",
       "      <td>108030</td>\n",
       "      <td>0.000000e+00</td>\n",
       "      <td>0.000000e+00</td>\n",
       "      <td>7.0</td>\n",
       "      <td>267</td>\n",
       "      <td>2.9</td>\n",
       "    </tr>\n",
       "    <tr>\n",
       "      <th>1</th>\n",
       "      <td>balrampur</td>\n",
       "      <td>2014</td>\n",
       "      <td>Kharif</td>\n",
       "      <td>Urad</td>\n",
       "      <td>84190</td>\n",
       "      <td>1.482197e-323</td>\n",
       "      <td>1.482197e-323</td>\n",
       "      <td>7.3</td>\n",
       "      <td>320</td>\n",
       "      <td>5.6</td>\n",
       "    </tr>\n",
       "    <tr>\n",
       "      <th>2</th>\n",
       "      <td>balrampur</td>\n",
       "      <td>2014</td>\n",
       "      <td>Kharif</td>\n",
       "      <td>Sugarcane</td>\n",
       "      <td>43539</td>\n",
       "      <td>6.952763e-310</td>\n",
       "      <td>0.000000e+00</td>\n",
       "      <td>6.7</td>\n",
       "      <td>305</td>\n",
       "      <td>4.0</td>\n",
       "    </tr>\n",
       "    <tr>\n",
       "      <th>3</th>\n",
       "      <td>balrampur</td>\n",
       "      <td>2014</td>\n",
       "      <td>Rabi</td>\n",
       "      <td>Wheat</td>\n",
       "      <td>90246</td>\n",
       "      <td>2.152572e-314</td>\n",
       "      <td>6.952764e-310</td>\n",
       "      <td>5.7</td>\n",
       "      <td>279</td>\n",
       "      <td>2.1</td>\n",
       "    </tr>\n",
       "    <tr>\n",
       "      <th>4</th>\n",
       "      <td>balrampur</td>\n",
       "      <td>2014</td>\n",
       "      <td>Rabi</td>\n",
       "      <td>Wheat</td>\n",
       "      <td>18087</td>\n",
       "      <td>0.000000e+00</td>\n",
       "      <td>1.976263e-323</td>\n",
       "      <td>6.4</td>\n",
       "      <td>252</td>\n",
       "      <td>2.5</td>\n",
       "    </tr>\n",
       "    <tr>\n",
       "      <th>5</th>\n",
       "      <td>balrampur</td>\n",
       "      <td>2014</td>\n",
       "      <td>Rabi</td>\n",
       "      <td>Rapeseed &amp;Mustard</td>\n",
       "      <td>9629</td>\n",
       "      <td>0.000000e+00</td>\n",
       "      <td>0.000000e+00</td>\n",
       "      <td>7.4</td>\n",
       "      <td>348</td>\n",
       "      <td>1.4</td>\n",
       "    </tr>\n",
       "    <tr>\n",
       "      <th>6</th>\n",
       "      <td>agra</td>\n",
       "      <td>2014</td>\n",
       "      <td>Kharif</td>\n",
       "      <td>Urad</td>\n",
       "      <td>10164</td>\n",
       "      <td>1.149530e+02</td>\n",
       "      <td>2.829433e+01</td>\n",
       "      <td>6.8</td>\n",
       "      <td>330</td>\n",
       "      <td>2.7</td>\n",
       "    </tr>\n",
       "    <tr>\n",
       "      <th>7</th>\n",
       "      <td>agra</td>\n",
       "      <td>2014</td>\n",
       "      <td>Kharif</td>\n",
       "      <td>Sugarcane</td>\n",
       "      <td>1935</td>\n",
       "      <td>1.149530e+02</td>\n",
       "      <td>2.829433e+01</td>\n",
       "      <td>5.9</td>\n",
       "      <td>461</td>\n",
       "      <td>3.7</td>\n",
       "    </tr>\n",
       "    <tr>\n",
       "      <th>8</th>\n",
       "      <td>agra</td>\n",
       "      <td>2014</td>\n",
       "      <td>Kharif</td>\n",
       "      <td>Sesamum</td>\n",
       "      <td>495</td>\n",
       "      <td>1.149530e+02</td>\n",
       "      <td>2.829433e+01</td>\n",
       "      <td>5.6</td>\n",
       "      <td>338</td>\n",
       "      <td>4.0</td>\n",
       "    </tr>\n",
       "    <tr>\n",
       "      <th>9</th>\n",
       "      <td>agra</td>\n",
       "      <td>2014</td>\n",
       "      <td>Rabi</td>\n",
       "      <td>Wheat</td>\n",
       "      <td>136036</td>\n",
       "      <td>1.828000e+00</td>\n",
       "      <td>1.974325e+01</td>\n",
       "      <td>6.6</td>\n",
       "      <td>283</td>\n",
       "      <td>5.6</td>\n",
       "    </tr>\n",
       "    <tr>\n",
       "      <th>10</th>\n",
       "      <td>agra</td>\n",
       "      <td>2014</td>\n",
       "      <td>Rabi</td>\n",
       "      <td>Rapeseed &amp;Mustard</td>\n",
       "      <td>67228</td>\n",
       "      <td>1.828000e+00</td>\n",
       "      <td>1.974325e+01</td>\n",
       "      <td>7.4</td>\n",
       "      <td>402</td>\n",
       "      <td>3.6</td>\n",
       "    </tr>\n",
       "    <tr>\n",
       "      <th>11</th>\n",
       "      <td>agra</td>\n",
       "      <td>2014</td>\n",
       "      <td>Rabi</td>\n",
       "      <td>Potato</td>\n",
       "      <td>45613</td>\n",
       "      <td>1.828000e+00</td>\n",
       "      <td>1.974325e+01</td>\n",
       "      <td>5.6</td>\n",
       "      <td>219</td>\n",
       "      <td>3.6</td>\n",
       "    </tr>\n",
       "    <tr>\n",
       "      <th>12</th>\n",
       "      <td>aligarh</td>\n",
       "      <td>2014</td>\n",
       "      <td>Kharif</td>\n",
       "      <td>Urad</td>\n",
       "      <td>90420</td>\n",
       "      <td>1.221147e+02</td>\n",
       "      <td>2.866233e+01</td>\n",
       "      <td>5.8</td>\n",
       "      <td>283</td>\n",
       "      <td>5.3</td>\n",
       "    </tr>\n",
       "    <tr>\n",
       "      <th>13</th>\n",
       "      <td>aligarh</td>\n",
       "      <td>2014</td>\n",
       "      <td>Kharif</td>\n",
       "      <td>Sugarcane</td>\n",
       "      <td>14445</td>\n",
       "      <td>1.221147e+02</td>\n",
       "      <td>2.866233e+01</td>\n",
       "      <td>5.9</td>\n",
       "      <td>341</td>\n",
       "      <td>2.7</td>\n",
       "    </tr>\n",
       "    <tr>\n",
       "      <th>14</th>\n",
       "      <td>aligarh</td>\n",
       "      <td>2014</td>\n",
       "      <td>Kharif</td>\n",
       "      <td>Sesamum</td>\n",
       "      <td>6645</td>\n",
       "      <td>1.221147e+02</td>\n",
       "      <td>2.866233e+01</td>\n",
       "      <td>6.6</td>\n",
       "      <td>325</td>\n",
       "      <td>1.3</td>\n",
       "    </tr>\n",
       "  </tbody>\n",
       "</table>\n",
       "</div>"
      ],
      "text/plain": [
       "     District  Year  Season               Crop    Area       Rainfall  \\\n",
       "0   balrampur  2014  Kharif               Urad  108030   0.000000e+00   \n",
       "1   balrampur  2014  Kharif               Urad   84190  1.482197e-323   \n",
       "2   balrampur  2014  Kharif          Sugarcane   43539  6.952763e-310   \n",
       "3   balrampur  2014    Rabi              Wheat   90246  2.152572e-314   \n",
       "4   balrampur  2014    Rabi              Wheat   18087   0.000000e+00   \n",
       "5   balrampur  2014    Rabi  Rapeseed &Mustard    9629   0.000000e+00   \n",
       "6        agra  2014  Kharif               Urad   10164   1.149530e+02   \n",
       "7        agra  2014  Kharif          Sugarcane    1935   1.149530e+02   \n",
       "8        agra  2014  Kharif            Sesamum     495   1.149530e+02   \n",
       "9        agra  2014    Rabi              Wheat  136036   1.828000e+00   \n",
       "10       agra  2014    Rabi  Rapeseed &Mustard   67228   1.828000e+00   \n",
       "11       agra  2014    Rabi             Potato   45613   1.828000e+00   \n",
       "12    aligarh  2014  Kharif               Urad   90420   1.221147e+02   \n",
       "13    aligarh  2014  Kharif          Sugarcane   14445   1.221147e+02   \n",
       "14    aligarh  2014  Kharif            Sesamum    6645   1.221147e+02   \n",
       "\n",
       "       Temprature   pH  Nitrogen(kg/ha)  ElectricalConductivity(ds/m)  \n",
       "0    0.000000e+00  7.0              267                           2.9  \n",
       "1   1.482197e-323  7.3              320                           5.6  \n",
       "2    0.000000e+00  6.7              305                           4.0  \n",
       "3   6.952764e-310  5.7              279                           2.1  \n",
       "4   1.976263e-323  6.4              252                           2.5  \n",
       "5    0.000000e+00  7.4              348                           1.4  \n",
       "6    2.829433e+01  6.8              330                           2.7  \n",
       "7    2.829433e+01  5.9              461                           3.7  \n",
       "8    2.829433e+01  5.6              338                           4.0  \n",
       "9    1.974325e+01  6.6              283                           5.6  \n",
       "10   1.974325e+01  7.4              402                           3.6  \n",
       "11   1.974325e+01  5.6              219                           3.6  \n",
       "12   2.866233e+01  5.8              283                           5.3  \n",
       "13   2.866233e+01  5.9              341                           2.7  \n",
       "14   2.866233e+01  6.6              325                           1.3  "
      ]
     },
     "execution_count": 219,
     "metadata": {},
     "output_type": "execute_result"
    }
   ],
   "source": [
    "test.head(15)\n",
    "#we can see that the order of columns in the test dataframe are not in the same order\n",
    "#as that of train dataframe"
   ]
  },
  {
   "cell_type": "code",
   "execution_count": 220,
   "metadata": {},
   "outputs": [],
   "source": [
    "li=list(df_train.columns)"
   ]
  },
  {
   "cell_type": "code",
   "execution_count": 221,
   "metadata": {},
   "outputs": [
    {
     "data": {
      "text/plain": [
       "Index(['District', 'Year', 'Season', 'Crop', 'Area', 'Rainfall', 'Temprature',\n",
       "       'pH', 'Nitrogen(kg/ha)', 'ElectricalConductivity(ds/m)'],\n",
       "      dtype='object')"
      ]
     },
     "execution_count": 221,
     "metadata": {},
     "output_type": "execute_result"
    }
   ],
   "source": [
    "test.columns"
   ]
  },
  {
   "cell_type": "code",
   "execution_count": 222,
   "metadata": {},
   "outputs": [
    {
     "data": {
      "text/plain": [
       "['Area',\n",
       " 'Rainfall',\n",
       " 'Season',\n",
       " 'Temperature',\n",
       " 'Crop',\n",
       " 'pH',\n",
       " 'Nitrogen(kg/ha)',\n",
       " 'ElectricalConductivity(ds/m)']"
      ]
     },
     "execution_count": 222,
     "metadata": {},
     "output_type": "execute_result"
    }
   ],
   "source": [
    "li"
   ]
  },
  {
   "cell_type": "code",
   "execution_count": 223,
   "metadata": {},
   "outputs": [],
   "source": [
    "test=test[['District','Year','Area',\n",
    " 'Rainfall',\n",
    " 'Season',\n",
    " 'Temprature',\n",
    " 'Crop',\n",
    " 'pH',\n",
    " 'Nitrogen(kg/ha)',\n",
    " 'ElectricalConductivity(ds/m)']]"
   ]
  },
  {
   "cell_type": "code",
   "execution_count": 224,
   "metadata": {},
   "outputs": [
    {
     "data": {
      "text/html": [
       "<div>\n",
       "<style scoped>\n",
       "    .dataframe tbody tr th:only-of-type {\n",
       "        vertical-align: middle;\n",
       "    }\n",
       "\n",
       "    .dataframe tbody tr th {\n",
       "        vertical-align: top;\n",
       "    }\n",
       "\n",
       "    .dataframe thead th {\n",
       "        text-align: right;\n",
       "    }\n",
       "</style>\n",
       "<table border=\"1\" class=\"dataframe\">\n",
       "  <thead>\n",
       "    <tr style=\"text-align: right;\">\n",
       "      <th></th>\n",
       "      <th>District</th>\n",
       "      <th>Year</th>\n",
       "      <th>Area</th>\n",
       "      <th>Rainfall</th>\n",
       "      <th>Season</th>\n",
       "      <th>Temprature</th>\n",
       "      <th>Crop</th>\n",
       "      <th>pH</th>\n",
       "      <th>Nitrogen(kg/ha)</th>\n",
       "      <th>ElectricalConductivity(ds/m)</th>\n",
       "    </tr>\n",
       "  </thead>\n",
       "  <tbody>\n",
       "    <tr>\n",
       "      <th>0</th>\n",
       "      <td>balrampur</td>\n",
       "      <td>2014</td>\n",
       "      <td>108030</td>\n",
       "      <td>0.000000e+00</td>\n",
       "      <td>Kharif</td>\n",
       "      <td>0.000000e+00</td>\n",
       "      <td>Urad</td>\n",
       "      <td>7.0</td>\n",
       "      <td>267</td>\n",
       "      <td>2.9</td>\n",
       "    </tr>\n",
       "    <tr>\n",
       "      <th>1</th>\n",
       "      <td>balrampur</td>\n",
       "      <td>2014</td>\n",
       "      <td>84190</td>\n",
       "      <td>1.482197e-323</td>\n",
       "      <td>Kharif</td>\n",
       "      <td>1.482197e-323</td>\n",
       "      <td>Urad</td>\n",
       "      <td>7.3</td>\n",
       "      <td>320</td>\n",
       "      <td>5.6</td>\n",
       "    </tr>\n",
       "    <tr>\n",
       "      <th>2</th>\n",
       "      <td>balrampur</td>\n",
       "      <td>2014</td>\n",
       "      <td>43539</td>\n",
       "      <td>6.952763e-310</td>\n",
       "      <td>Kharif</td>\n",
       "      <td>0.000000e+00</td>\n",
       "      <td>Sugarcane</td>\n",
       "      <td>6.7</td>\n",
       "      <td>305</td>\n",
       "      <td>4.0</td>\n",
       "    </tr>\n",
       "    <tr>\n",
       "      <th>3</th>\n",
       "      <td>balrampur</td>\n",
       "      <td>2014</td>\n",
       "      <td>90246</td>\n",
       "      <td>2.152572e-314</td>\n",
       "      <td>Rabi</td>\n",
       "      <td>6.952764e-310</td>\n",
       "      <td>Wheat</td>\n",
       "      <td>5.7</td>\n",
       "      <td>279</td>\n",
       "      <td>2.1</td>\n",
       "    </tr>\n",
       "    <tr>\n",
       "      <th>4</th>\n",
       "      <td>balrampur</td>\n",
       "      <td>2014</td>\n",
       "      <td>18087</td>\n",
       "      <td>0.000000e+00</td>\n",
       "      <td>Rabi</td>\n",
       "      <td>1.976263e-323</td>\n",
       "      <td>Wheat</td>\n",
       "      <td>6.4</td>\n",
       "      <td>252</td>\n",
       "      <td>2.5</td>\n",
       "    </tr>\n",
       "  </tbody>\n",
       "</table>\n",
       "</div>"
      ],
      "text/plain": [
       "    District  Year    Area       Rainfall  Season     Temprature       Crop  \\\n",
       "0  balrampur  2014  108030   0.000000e+00  Kharif   0.000000e+00       Urad   \n",
       "1  balrampur  2014   84190  1.482197e-323  Kharif  1.482197e-323       Urad   \n",
       "2  balrampur  2014   43539  6.952763e-310  Kharif   0.000000e+00  Sugarcane   \n",
       "3  balrampur  2014   90246  2.152572e-314    Rabi  6.952764e-310      Wheat   \n",
       "4  balrampur  2014   18087   0.000000e+00    Rabi  1.976263e-323      Wheat   \n",
       "\n",
       "    pH  Nitrogen(kg/ha)  ElectricalConductivity(ds/m)  \n",
       "0  7.0              267                           2.9  \n",
       "1  7.3              320                           5.6  \n",
       "2  6.7              305                           4.0  \n",
       "3  5.7              279                           2.1  \n",
       "4  6.4              252                           2.5  "
      ]
     },
     "execution_count": 224,
     "metadata": {},
     "output_type": "execute_result"
    }
   ],
   "source": [
    "test.head()"
   ]
  },
  {
   "cell_type": "code",
   "execution_count": 225,
   "metadata": {},
   "outputs": [],
   "source": [
    "test['Season'] = se.fit_transform(test['Season'])\n",
    "test['Crop'] = cr.fit_transform(test['Crop'])\n"
   ]
  },
  {
   "cell_type": "code",
   "execution_count": 226,
   "metadata": {},
   "outputs": [
    {
     "data": {
      "text/html": [
       "<div>\n",
       "<style scoped>\n",
       "    .dataframe tbody tr th:only-of-type {\n",
       "        vertical-align: middle;\n",
       "    }\n",
       "\n",
       "    .dataframe tbody tr th {\n",
       "        vertical-align: top;\n",
       "    }\n",
       "\n",
       "    .dataframe thead th {\n",
       "        text-align: right;\n",
       "    }\n",
       "</style>\n",
       "<table border=\"1\" class=\"dataframe\">\n",
       "  <thead>\n",
       "    <tr style=\"text-align: right;\">\n",
       "      <th></th>\n",
       "      <th>District</th>\n",
       "      <th>Year</th>\n",
       "      <th>Area</th>\n",
       "      <th>Rainfall</th>\n",
       "      <th>Season</th>\n",
       "      <th>Temprature</th>\n",
       "      <th>Crop</th>\n",
       "      <th>pH</th>\n",
       "      <th>Nitrogen(kg/ha)</th>\n",
       "      <th>ElectricalConductivity(ds/m)</th>\n",
       "    </tr>\n",
       "  </thead>\n",
       "  <tbody>\n",
       "    <tr>\n",
       "      <th>0</th>\n",
       "      <td>balrampur</td>\n",
       "      <td>2014</td>\n",
       "      <td>108030</td>\n",
       "      <td>0.000000e+00</td>\n",
       "      <td>0</td>\n",
       "      <td>0.000000e+00</td>\n",
       "      <td>5</td>\n",
       "      <td>7.0</td>\n",
       "      <td>267</td>\n",
       "      <td>2.9</td>\n",
       "    </tr>\n",
       "    <tr>\n",
       "      <th>1</th>\n",
       "      <td>balrampur</td>\n",
       "      <td>2014</td>\n",
       "      <td>84190</td>\n",
       "      <td>1.482197e-323</td>\n",
       "      <td>0</td>\n",
       "      <td>1.482197e-323</td>\n",
       "      <td>5</td>\n",
       "      <td>7.3</td>\n",
       "      <td>320</td>\n",
       "      <td>5.6</td>\n",
       "    </tr>\n",
       "    <tr>\n",
       "      <th>2</th>\n",
       "      <td>balrampur</td>\n",
       "      <td>2014</td>\n",
       "      <td>43539</td>\n",
       "      <td>6.952763e-310</td>\n",
       "      <td>0</td>\n",
       "      <td>0.000000e+00</td>\n",
       "      <td>4</td>\n",
       "      <td>6.7</td>\n",
       "      <td>305</td>\n",
       "      <td>4.0</td>\n",
       "    </tr>\n",
       "    <tr>\n",
       "      <th>3</th>\n",
       "      <td>balrampur</td>\n",
       "      <td>2014</td>\n",
       "      <td>90246</td>\n",
       "      <td>2.152572e-314</td>\n",
       "      <td>1</td>\n",
       "      <td>6.952764e-310</td>\n",
       "      <td>6</td>\n",
       "      <td>5.7</td>\n",
       "      <td>279</td>\n",
       "      <td>2.1</td>\n",
       "    </tr>\n",
       "    <tr>\n",
       "      <th>4</th>\n",
       "      <td>balrampur</td>\n",
       "      <td>2014</td>\n",
       "      <td>18087</td>\n",
       "      <td>0.000000e+00</td>\n",
       "      <td>1</td>\n",
       "      <td>1.976263e-323</td>\n",
       "      <td>6</td>\n",
       "      <td>6.4</td>\n",
       "      <td>252</td>\n",
       "      <td>2.5</td>\n",
       "    </tr>\n",
       "  </tbody>\n",
       "</table>\n",
       "</div>"
      ],
      "text/plain": [
       "    District  Year    Area       Rainfall  Season     Temprature  Crop   pH  \\\n",
       "0  balrampur  2014  108030   0.000000e+00       0   0.000000e+00     5  7.0   \n",
       "1  balrampur  2014   84190  1.482197e-323       0  1.482197e-323     5  7.3   \n",
       "2  balrampur  2014   43539  6.952763e-310       0   0.000000e+00     4  6.7   \n",
       "3  balrampur  2014   90246  2.152572e-314       1  6.952764e-310     6  5.7   \n",
       "4  balrampur  2014   18087   0.000000e+00       1  1.976263e-323     6  6.4   \n",
       "\n",
       "   Nitrogen(kg/ha)  ElectricalConductivity(ds/m)  \n",
       "0              267                           2.9  \n",
       "1              320                           5.6  \n",
       "2              305                           4.0  \n",
       "3              279                           2.1  \n",
       "4              252                           2.5  "
      ]
     },
     "execution_count": 226,
     "metadata": {},
     "output_type": "execute_result"
    }
   ],
   "source": [
    "test.head()"
   ]
  },
  {
   "cell_type": "code",
   "execution_count": 227,
   "metadata": {},
   "outputs": [],
   "source": [
    "test_district_Year=test[[\"District\",\"Year\"]]"
   ]
  },
  {
   "cell_type": "code",
   "execution_count": 228,
   "metadata": {},
   "outputs": [
    {
     "data": {
      "text/html": [
       "<div>\n",
       "<style scoped>\n",
       "    .dataframe tbody tr th:only-of-type {\n",
       "        vertical-align: middle;\n",
       "    }\n",
       "\n",
       "    .dataframe tbody tr th {\n",
       "        vertical-align: top;\n",
       "    }\n",
       "\n",
       "    .dataframe thead th {\n",
       "        text-align: right;\n",
       "    }\n",
       "</style>\n",
       "<table border=\"1\" class=\"dataframe\">\n",
       "  <thead>\n",
       "    <tr style=\"text-align: right;\">\n",
       "      <th></th>\n",
       "      <th>District</th>\n",
       "      <th>Year</th>\n",
       "    </tr>\n",
       "  </thead>\n",
       "  <tbody>\n",
       "    <tr>\n",
       "      <th>0</th>\n",
       "      <td>balrampur</td>\n",
       "      <td>2014</td>\n",
       "    </tr>\n",
       "    <tr>\n",
       "      <th>1</th>\n",
       "      <td>balrampur</td>\n",
       "      <td>2014</td>\n",
       "    </tr>\n",
       "    <tr>\n",
       "      <th>2</th>\n",
       "      <td>balrampur</td>\n",
       "      <td>2014</td>\n",
       "    </tr>\n",
       "    <tr>\n",
       "      <th>3</th>\n",
       "      <td>balrampur</td>\n",
       "      <td>2014</td>\n",
       "    </tr>\n",
       "    <tr>\n",
       "      <th>4</th>\n",
       "      <td>balrampur</td>\n",
       "      <td>2014</td>\n",
       "    </tr>\n",
       "    <tr>\n",
       "      <th>5</th>\n",
       "      <td>balrampur</td>\n",
       "      <td>2014</td>\n",
       "    </tr>\n",
       "    <tr>\n",
       "      <th>6</th>\n",
       "      <td>agra</td>\n",
       "      <td>2014</td>\n",
       "    </tr>\n",
       "    <tr>\n",
       "      <th>7</th>\n",
       "      <td>agra</td>\n",
       "      <td>2014</td>\n",
       "    </tr>\n",
       "    <tr>\n",
       "      <th>8</th>\n",
       "      <td>agra</td>\n",
       "      <td>2014</td>\n",
       "    </tr>\n",
       "    <tr>\n",
       "      <th>9</th>\n",
       "      <td>agra</td>\n",
       "      <td>2014</td>\n",
       "    </tr>\n",
       "    <tr>\n",
       "      <th>10</th>\n",
       "      <td>agra</td>\n",
       "      <td>2014</td>\n",
       "    </tr>\n",
       "    <tr>\n",
       "      <th>11</th>\n",
       "      <td>agra</td>\n",
       "      <td>2014</td>\n",
       "    </tr>\n",
       "    <tr>\n",
       "      <th>12</th>\n",
       "      <td>aligarh</td>\n",
       "      <td>2014</td>\n",
       "    </tr>\n",
       "    <tr>\n",
       "      <th>13</th>\n",
       "      <td>aligarh</td>\n",
       "      <td>2014</td>\n",
       "    </tr>\n",
       "    <tr>\n",
       "      <th>14</th>\n",
       "      <td>aligarh</td>\n",
       "      <td>2014</td>\n",
       "    </tr>\n",
       "    <tr>\n",
       "      <th>15</th>\n",
       "      <td>aligarh</td>\n",
       "      <td>2014</td>\n",
       "    </tr>\n",
       "    <tr>\n",
       "      <th>16</th>\n",
       "      <td>aligarh</td>\n",
       "      <td>2014</td>\n",
       "    </tr>\n",
       "    <tr>\n",
       "      <th>17</th>\n",
       "      <td>aligarh</td>\n",
       "      <td>2014</td>\n",
       "    </tr>\n",
       "    <tr>\n",
       "      <th>18</th>\n",
       "      <td>allahabad</td>\n",
       "      <td>2014</td>\n",
       "    </tr>\n",
       "    <tr>\n",
       "      <th>19</th>\n",
       "      <td>allahabad</td>\n",
       "      <td>2014</td>\n",
       "    </tr>\n",
       "    <tr>\n",
       "      <th>20</th>\n",
       "      <td>allahabad</td>\n",
       "      <td>2014</td>\n",
       "    </tr>\n",
       "    <tr>\n",
       "      <th>21</th>\n",
       "      <td>allahabad</td>\n",
       "      <td>2014</td>\n",
       "    </tr>\n",
       "    <tr>\n",
       "      <th>22</th>\n",
       "      <td>allahabad</td>\n",
       "      <td>2014</td>\n",
       "    </tr>\n",
       "    <tr>\n",
       "      <th>23</th>\n",
       "      <td>allahabad</td>\n",
       "      <td>2014</td>\n",
       "    </tr>\n",
       "    <tr>\n",
       "      <th>24</th>\n",
       "      <td>ambedkar nagar</td>\n",
       "      <td>2014</td>\n",
       "    </tr>\n",
       "    <tr>\n",
       "      <th>25</th>\n",
       "      <td>ambedkar nagar</td>\n",
       "      <td>2014</td>\n",
       "    </tr>\n",
       "    <tr>\n",
       "      <th>26</th>\n",
       "      <td>ambedkar nagar</td>\n",
       "      <td>2014</td>\n",
       "    </tr>\n",
       "    <tr>\n",
       "      <th>27</th>\n",
       "      <td>ambedkar nagar</td>\n",
       "      <td>2014</td>\n",
       "    </tr>\n",
       "    <tr>\n",
       "      <th>28</th>\n",
       "      <td>ambedkar nagar</td>\n",
       "      <td>2014</td>\n",
       "    </tr>\n",
       "    <tr>\n",
       "      <th>29</th>\n",
       "      <td>ambedkar nagar</td>\n",
       "      <td>2014</td>\n",
       "    </tr>\n",
       "    <tr>\n",
       "      <th>...</th>\n",
       "      <td>...</td>\n",
       "      <td>...</td>\n",
       "    </tr>\n",
       "    <tr>\n",
       "      <th>354</th>\n",
       "      <td>sitapur</td>\n",
       "      <td>2014</td>\n",
       "    </tr>\n",
       "    <tr>\n",
       "      <th>355</th>\n",
       "      <td>sitapur</td>\n",
       "      <td>2014</td>\n",
       "    </tr>\n",
       "    <tr>\n",
       "      <th>356</th>\n",
       "      <td>sitapur</td>\n",
       "      <td>2014</td>\n",
       "    </tr>\n",
       "    <tr>\n",
       "      <th>357</th>\n",
       "      <td>sitapur</td>\n",
       "      <td>2014</td>\n",
       "    </tr>\n",
       "    <tr>\n",
       "      <th>358</th>\n",
       "      <td>sitapur</td>\n",
       "      <td>2014</td>\n",
       "    </tr>\n",
       "    <tr>\n",
       "      <th>359</th>\n",
       "      <td>sitapur</td>\n",
       "      <td>2014</td>\n",
       "    </tr>\n",
       "    <tr>\n",
       "      <th>360</th>\n",
       "      <td>sonbhadra</td>\n",
       "      <td>2014</td>\n",
       "    </tr>\n",
       "    <tr>\n",
       "      <th>361</th>\n",
       "      <td>sonbhadra</td>\n",
       "      <td>2014</td>\n",
       "    </tr>\n",
       "    <tr>\n",
       "      <th>362</th>\n",
       "      <td>sonbhadra</td>\n",
       "      <td>2014</td>\n",
       "    </tr>\n",
       "    <tr>\n",
       "      <th>363</th>\n",
       "      <td>sonbhadra</td>\n",
       "      <td>2014</td>\n",
       "    </tr>\n",
       "    <tr>\n",
       "      <th>364</th>\n",
       "      <td>sonbhadra</td>\n",
       "      <td>2014</td>\n",
       "    </tr>\n",
       "    <tr>\n",
       "      <th>365</th>\n",
       "      <td>sonbhadra</td>\n",
       "      <td>2014</td>\n",
       "    </tr>\n",
       "    <tr>\n",
       "      <th>366</th>\n",
       "      <td>sultanpur</td>\n",
       "      <td>2014</td>\n",
       "    </tr>\n",
       "    <tr>\n",
       "      <th>367</th>\n",
       "      <td>sultanpur</td>\n",
       "      <td>2014</td>\n",
       "    </tr>\n",
       "    <tr>\n",
       "      <th>368</th>\n",
       "      <td>sultanpur</td>\n",
       "      <td>2014</td>\n",
       "    </tr>\n",
       "    <tr>\n",
       "      <th>369</th>\n",
       "      <td>sultanpur</td>\n",
       "      <td>2014</td>\n",
       "    </tr>\n",
       "    <tr>\n",
       "      <th>370</th>\n",
       "      <td>sultanpur</td>\n",
       "      <td>2014</td>\n",
       "    </tr>\n",
       "    <tr>\n",
       "      <th>371</th>\n",
       "      <td>sultanpur</td>\n",
       "      <td>2014</td>\n",
       "    </tr>\n",
       "    <tr>\n",
       "      <th>372</th>\n",
       "      <td>unnao</td>\n",
       "      <td>2014</td>\n",
       "    </tr>\n",
       "    <tr>\n",
       "      <th>373</th>\n",
       "      <td>unnao</td>\n",
       "      <td>2014</td>\n",
       "    </tr>\n",
       "    <tr>\n",
       "      <th>374</th>\n",
       "      <td>unnao</td>\n",
       "      <td>2014</td>\n",
       "    </tr>\n",
       "    <tr>\n",
       "      <th>375</th>\n",
       "      <td>unnao</td>\n",
       "      <td>2014</td>\n",
       "    </tr>\n",
       "    <tr>\n",
       "      <th>376</th>\n",
       "      <td>unnao</td>\n",
       "      <td>2014</td>\n",
       "    </tr>\n",
       "    <tr>\n",
       "      <th>377</th>\n",
       "      <td>unnao</td>\n",
       "      <td>2014</td>\n",
       "    </tr>\n",
       "    <tr>\n",
       "      <th>378</th>\n",
       "      <td>varanasi</td>\n",
       "      <td>2014</td>\n",
       "    </tr>\n",
       "    <tr>\n",
       "      <th>379</th>\n",
       "      <td>varanasi</td>\n",
       "      <td>2014</td>\n",
       "    </tr>\n",
       "    <tr>\n",
       "      <th>380</th>\n",
       "      <td>varanasi</td>\n",
       "      <td>2014</td>\n",
       "    </tr>\n",
       "    <tr>\n",
       "      <th>381</th>\n",
       "      <td>varanasi</td>\n",
       "      <td>2014</td>\n",
       "    </tr>\n",
       "    <tr>\n",
       "      <th>382</th>\n",
       "      <td>varanasi</td>\n",
       "      <td>2014</td>\n",
       "    </tr>\n",
       "    <tr>\n",
       "      <th>383</th>\n",
       "      <td>varanasi</td>\n",
       "      <td>2014</td>\n",
       "    </tr>\n",
       "  </tbody>\n",
       "</table>\n",
       "<p>384 rows × 2 columns</p>\n",
       "</div>"
      ],
      "text/plain": [
       "           District  Year\n",
       "0         balrampur  2014\n",
       "1         balrampur  2014\n",
       "2         balrampur  2014\n",
       "3         balrampur  2014\n",
       "4         balrampur  2014\n",
       "5         balrampur  2014\n",
       "6              agra  2014\n",
       "7              agra  2014\n",
       "8              agra  2014\n",
       "9              agra  2014\n",
       "10             agra  2014\n",
       "11             agra  2014\n",
       "12          aligarh  2014\n",
       "13          aligarh  2014\n",
       "14          aligarh  2014\n",
       "15          aligarh  2014\n",
       "16          aligarh  2014\n",
       "17          aligarh  2014\n",
       "18        allahabad  2014\n",
       "19        allahabad  2014\n",
       "20        allahabad  2014\n",
       "21        allahabad  2014\n",
       "22        allahabad  2014\n",
       "23        allahabad  2014\n",
       "24   ambedkar nagar  2014\n",
       "25   ambedkar nagar  2014\n",
       "26   ambedkar nagar  2014\n",
       "27   ambedkar nagar  2014\n",
       "28   ambedkar nagar  2014\n",
       "29   ambedkar nagar  2014\n",
       "..              ...   ...\n",
       "354         sitapur  2014\n",
       "355         sitapur  2014\n",
       "356         sitapur  2014\n",
       "357         sitapur  2014\n",
       "358         sitapur  2014\n",
       "359         sitapur  2014\n",
       "360       sonbhadra  2014\n",
       "361       sonbhadra  2014\n",
       "362       sonbhadra  2014\n",
       "363       sonbhadra  2014\n",
       "364       sonbhadra  2014\n",
       "365       sonbhadra  2014\n",
       "366       sultanpur  2014\n",
       "367       sultanpur  2014\n",
       "368       sultanpur  2014\n",
       "369       sultanpur  2014\n",
       "370       sultanpur  2014\n",
       "371       sultanpur  2014\n",
       "372           unnao  2014\n",
       "373           unnao  2014\n",
       "374           unnao  2014\n",
       "375           unnao  2014\n",
       "376           unnao  2014\n",
       "377           unnao  2014\n",
       "378        varanasi  2014\n",
       "379        varanasi  2014\n",
       "380        varanasi  2014\n",
       "381        varanasi  2014\n",
       "382        varanasi  2014\n",
       "383        varanasi  2014\n",
       "\n",
       "[384 rows x 2 columns]"
      ]
     },
     "execution_count": 228,
     "metadata": {},
     "output_type": "execute_result"
    }
   ],
   "source": [
    "test_district_Year"
   ]
  },
  {
   "cell_type": "code",
   "execution_count": 229,
   "metadata": {},
   "outputs": [],
   "source": [
    "test.drop([\"District\",\"Year\"],axis=1,inplace=True)"
   ]
  },
  {
   "cell_type": "code",
   "execution_count": 230,
   "metadata": {},
   "outputs": [
    {
     "data": {
      "text/html": [
       "<div>\n",
       "<style scoped>\n",
       "    .dataframe tbody tr th:only-of-type {\n",
       "        vertical-align: middle;\n",
       "    }\n",
       "\n",
       "    .dataframe tbody tr th {\n",
       "        vertical-align: top;\n",
       "    }\n",
       "\n",
       "    .dataframe thead th {\n",
       "        text-align: right;\n",
       "    }\n",
       "</style>\n",
       "<table border=\"1\" class=\"dataframe\">\n",
       "  <thead>\n",
       "    <tr style=\"text-align: right;\">\n",
       "      <th></th>\n",
       "      <th>Area</th>\n",
       "      <th>Rainfall</th>\n",
       "      <th>Season</th>\n",
       "      <th>Temprature</th>\n",
       "      <th>Crop</th>\n",
       "      <th>pH</th>\n",
       "      <th>Nitrogen(kg/ha)</th>\n",
       "      <th>ElectricalConductivity(ds/m)</th>\n",
       "    </tr>\n",
       "  </thead>\n",
       "  <tbody>\n",
       "    <tr>\n",
       "      <th>0</th>\n",
       "      <td>108030</td>\n",
       "      <td>0.000000e+00</td>\n",
       "      <td>0</td>\n",
       "      <td>0.000000e+00</td>\n",
       "      <td>5</td>\n",
       "      <td>7.0</td>\n",
       "      <td>267</td>\n",
       "      <td>2.9</td>\n",
       "    </tr>\n",
       "    <tr>\n",
       "      <th>1</th>\n",
       "      <td>84190</td>\n",
       "      <td>1.482197e-323</td>\n",
       "      <td>0</td>\n",
       "      <td>1.482197e-323</td>\n",
       "      <td>5</td>\n",
       "      <td>7.3</td>\n",
       "      <td>320</td>\n",
       "      <td>5.6</td>\n",
       "    </tr>\n",
       "    <tr>\n",
       "      <th>2</th>\n",
       "      <td>43539</td>\n",
       "      <td>6.952763e-310</td>\n",
       "      <td>0</td>\n",
       "      <td>0.000000e+00</td>\n",
       "      <td>4</td>\n",
       "      <td>6.7</td>\n",
       "      <td>305</td>\n",
       "      <td>4.0</td>\n",
       "    </tr>\n",
       "    <tr>\n",
       "      <th>3</th>\n",
       "      <td>90246</td>\n",
       "      <td>2.152572e-314</td>\n",
       "      <td>1</td>\n",
       "      <td>6.952764e-310</td>\n",
       "      <td>6</td>\n",
       "      <td>5.7</td>\n",
       "      <td>279</td>\n",
       "      <td>2.1</td>\n",
       "    </tr>\n",
       "    <tr>\n",
       "      <th>4</th>\n",
       "      <td>18087</td>\n",
       "      <td>0.000000e+00</td>\n",
       "      <td>1</td>\n",
       "      <td>1.976263e-323</td>\n",
       "      <td>6</td>\n",
       "      <td>6.4</td>\n",
       "      <td>252</td>\n",
       "      <td>2.5</td>\n",
       "    </tr>\n",
       "  </tbody>\n",
       "</table>\n",
       "</div>"
      ],
      "text/plain": [
       "     Area       Rainfall  Season     Temprature  Crop   pH  Nitrogen(kg/ha)  \\\n",
       "0  108030   0.000000e+00       0   0.000000e+00     5  7.0              267   \n",
       "1   84190  1.482197e-323       0  1.482197e-323     5  7.3              320   \n",
       "2   43539  6.952763e-310       0   0.000000e+00     4  6.7              305   \n",
       "3   90246  2.152572e-314       1  6.952764e-310     6  5.7              279   \n",
       "4   18087   0.000000e+00       1  1.976263e-323     6  6.4              252   \n",
       "\n",
       "   ElectricalConductivity(ds/m)  \n",
       "0                           2.9  \n",
       "1                           5.6  \n",
       "2                           4.0  \n",
       "3                           2.1  \n",
       "4                           2.5  "
      ]
     },
     "execution_count": 230,
     "metadata": {},
     "output_type": "execute_result"
    }
   ],
   "source": [
    "test.head()"
   ]
  },
  {
   "cell_type": "code",
   "execution_count": 231,
   "metadata": {},
   "outputs": [
    {
     "name": "stderr",
     "output_type": "stream",
     "text": [
      "/home/neelesh/anaconda3/lib/python3.7/site-packages/sklearn/preprocessing/_encoders.py:371: FutureWarning: The handling of integer data will change in version 0.22. Currently, the categories are determined based on the range [0, max(values)], while in the future they will be determined based on the unique values.\n",
      "If you want the future behaviour and silence this warning, you can specify \"categories='auto'\".\n",
      "In case you used a LabelEncoder before this OneHotEncoder to convert the categories to integers, then you can now use the OneHotEncoder directly.\n",
      "  warnings.warn(msg, FutureWarning)\n",
      "/home/neelesh/anaconda3/lib/python3.7/site-packages/sklearn/preprocessing/_encoders.py:392: DeprecationWarning: The 'categorical_features' keyword is deprecated in version 0.20 and will be removed in 0.22. You can use the ColumnTransformer instead.\n",
      "  \"use the ColumnTransformer instead.\", DeprecationWarning)\n"
     ]
    }
   ],
   "source": [
    "one1=OneHotEncoder(categorical_features=[2])\n",
    "X_validation=one1.fit_transform(X_train).toarray()"
   ]
  },
  {
   "cell_type": "code",
   "execution_count": 232,
   "metadata": {},
   "outputs": [
    {
     "data": {
      "text/plain": [
       "array([[ 1.        ,  0.        ,  1.20161048, ...,  0.34842129,\n",
       "         1.69868418,  0.52773076],\n",
       "       [ 1.        ,  0.        ,  1.20161048, ..., -0.89751843,\n",
       "         1.42105107,  0.37699779],\n",
       "       [ 1.        ,  0.        , -0.83221644, ...,  1.45592326,\n",
       "         0.18327015,  1.13066264],\n",
       "       ...,\n",
       "       [ 1.        ,  0.        , -0.83221644, ...,  0.34842129,\n",
       "        -0.00181858,  1.65822804],\n",
       "       [ 1.        ,  0.        , -0.83221644, ...,  1.17904777,\n",
       "        -1.10078295,  1.43212858],\n",
       "       [ 1.        ,  0.        , -0.83221644, ...,  1.45592326,\n",
       "        -0.90412617,  1.65822804]])"
      ]
     },
     "execution_count": 232,
     "metadata": {},
     "output_type": "execute_result"
    }
   ],
   "source": [
    "X_validation"
   ]
  },
  {
   "cell_type": "code",
   "execution_count": 233,
   "metadata": {},
   "outputs": [
    {
     "data": {
      "text/plain": [
       "13"
      ]
     },
     "execution_count": 233,
     "metadata": {},
     "output_type": "execute_result"
    }
   ],
   "source": [
    "len(X_validation[0])"
   ]
  },
  {
   "cell_type": "code",
   "execution_count": 234,
   "metadata": {},
   "outputs": [],
   "source": [
    "X_validation=X_validation[:,1:]"
   ]
  },
  {
   "cell_type": "code",
   "execution_count": 235,
   "metadata": {},
   "outputs": [
    {
     "data": {
      "text/plain": [
       "12"
      ]
     },
     "execution_count": 235,
     "metadata": {},
     "output_type": "execute_result"
    }
   ],
   "source": [
    "len(X_validation[0])"
   ]
  },
  {
   "cell_type": "code",
   "execution_count": 236,
   "metadata": {},
   "outputs": [],
   "source": [
    "X_validation=sc1.fit_transform(X_validation)"
   ]
  },
  {
   "cell_type": "code",
   "execution_count": 237,
   "metadata": {},
   "outputs": [
    {
     "data": {
      "text/plain": [
       "array([[-0.31912136,  1.20161048, -0.61637337, ...,  0.34842129,\n",
       "         1.69868418,  0.52773076],\n",
       "       [-0.31912136,  1.20161048, -0.61637337, ..., -0.89751843,\n",
       "         1.42105107,  0.37699779],\n",
       "       [-0.31912136, -0.83221644,  1.62239326, ...,  1.45592326,\n",
       "         0.18327015,  1.13066264],\n",
       "       ...,\n",
       "       [-0.31912136, -0.83221644,  1.62239326, ...,  0.34842129,\n",
       "        -0.00181858,  1.65822804],\n",
       "       [-0.31912136, -0.83221644,  1.62239326, ...,  1.17904777,\n",
       "        -1.10078295,  1.43212858],\n",
       "       [-0.31912136, -0.83221644,  1.62239326, ...,  1.45592326,\n",
       "        -0.90412617,  1.65822804]])"
      ]
     },
     "execution_count": 237,
     "metadata": {},
     "output_type": "execute_result"
    }
   ],
   "source": [
    "X_validation"
   ]
  },
  {
   "cell_type": "code",
   "execution_count": 238,
   "metadata": {},
   "outputs": [
    {
     "name": "stdout",
     "output_type": "stream",
     "text": [
      "Enter name of district: \n",
      "agra\n"
     ]
    }
   ],
   "source": [
    "print(\"Enter name of district: \")\n",
    "name = input()"
   ]
  },
  {
   "cell_type": "code",
   "execution_count": 239,
   "metadata": {},
   "outputs": [
    {
     "name": "stdout",
     "output_type": "stream",
     "text": [
      "agra\n"
     ]
    }
   ],
   "source": [
    "name = name.lower()\n",
    "print(name)"
   ]
  },
  {
   "cell_type": "code",
   "execution_count": 240,
   "metadata": {},
   "outputs": [
    {
     "name": "stdout",
     "output_type": "stream",
     "text": [
      "Enter the Year\n",
      "2015\n"
     ]
    }
   ],
   "source": [
    "print(\"Enter the Year\")\n",
    "year=input()"
   ]
  },
  {
   "cell_type": "code",
   "execution_count": 241,
   "metadata": {},
   "outputs": [],
   "source": [
    "k=0\n",
    "for i in range(len(test_district_Year)):\n",
    "    if(name==str(test_district_Year[\"District\"]) and year==test_district_Year[\"Year\"]):\n",
    "        k=i\n",
    "        break\n",
    "        \n",
    "        \n",
    "        "
   ]
  },
  {
   "cell_type": "markdown",
   "metadata": {},
   "source": [
    "# Here we have got the desired year and district name by the user\n"
   ]
  },
  {
   "cell_type": "code",
   "execution_count": 242,
   "metadata": {},
   "outputs": [],
   "source": [
    "predicted_production=np.square(grad.predict([X_validation[k]]))"
   ]
  },
  {
   "cell_type": "code",
   "execution_count": 243,
   "metadata": {},
   "outputs": [
    {
     "data": {
      "text/plain": [
       "array([[22067.285]], dtype=float32)"
      ]
     },
     "execution_count": 243,
     "metadata": {},
     "output_type": "execute_result"
    }
   ],
   "source": [
    "np.square(model.predict(np.array([X_validation[k]])))"
   ]
  },
  {
   "cell_type": "code",
   "execution_count": 244,
   "metadata": {},
   "outputs": [
    {
     "data": {
      "text/plain": [
       "array([8318.28824743])"
      ]
     },
     "execution_count": 244,
     "metadata": {},
     "output_type": "execute_result"
    }
   ],
   "source": [
    "predicted_production"
   ]
  },
  {
   "cell_type": "code",
   "execution_count": 245,
   "metadata": {},
   "outputs": [],
   "source": [
    "\n",
    "def production(name, year):\n",
    "    for i in range(len(test_district_Year)):\n",
    "        if(name==str(test_district_Year[\"District\"]) and year==test_district_Year[\"Year\"]):\n",
    "            break\n",
    "    return np.square(grad.predict(np.array([X_validation[i]])))\n",
    "    "
   ]
  },
  {
   "cell_type": "code",
   "execution_count": 246,
   "metadata": {},
   "outputs": [
    {
     "name": "stdout",
     "output_type": "stream",
     "text": [
      "Enter the name and year so we can predict production\n"
     ]
    }
   ],
   "source": [
    "print(\"Enter the name and year so we can predict production\")"
   ]
  },
  {
   "cell_type": "code",
   "execution_count": 217,
   "metadata": {},
   "outputs": [
    {
     "name": "stdout",
     "output_type": "stream",
     "text": [
      "agra\n",
      "2014\n"
     ]
    },
    {
     "data": {
      "text/plain": [
       "array([385.9956659])"
      ]
     },
     "execution_count": 217,
     "metadata": {},
     "output_type": "execute_result"
    }
   ],
   "source": [
    "name=input()\n",
    "year=input()\n",
    "production(name,year)"
   ]
  },
  {
   "cell_type": "code",
   "execution_count": null,
   "metadata": {},
   "outputs": [],
   "source": []
  },
  {
   "cell_type": "code",
   "execution_count": null,
   "metadata": {},
   "outputs": [],
   "source": []
  },
  {
   "cell_type": "code",
   "execution_count": null,
   "metadata": {},
   "outputs": [],
   "source": []
  },
  {
   "cell_type": "code",
   "execution_count": null,
   "metadata": {},
   "outputs": [],
   "source": []
  },
  {
   "cell_type": "code",
   "execution_count": null,
   "metadata": {},
   "outputs": [],
   "source": []
  },
  {
   "cell_type": "code",
   "execution_count": null,
   "metadata": {},
   "outputs": [],
   "source": []
  },
  {
   "cell_type": "code",
   "execution_count": null,
   "metadata": {},
   "outputs": [],
   "source": []
  },
  {
   "cell_type": "code",
   "execution_count": null,
   "metadata": {},
   "outputs": [],
   "source": []
  },
  {
   "cell_type": "code",
   "execution_count": null,
   "metadata": {},
   "outputs": [],
   "source": []
  },
  {
   "cell_type": "code",
   "execution_count": null,
   "metadata": {},
   "outputs": [],
   "source": []
  },
  {
   "cell_type": "code",
   "execution_count": null,
   "metadata": {},
   "outputs": [],
   "source": []
  }
 ],
 "metadata": {
  "kernelspec": {
   "display_name": "Python 3",
   "language": "python",
   "name": "python3"
  },
  "language_info": {
   "codemirror_mode": {
    "name": "ipython",
    "version": 3
   },
   "file_extension": ".py",
   "mimetype": "text/x-python",
   "name": "python",
   "nbconvert_exporter": "python",
   "pygments_lexer": "ipython3",
   "version": "3.7.3"
  }
 },
 "nbformat": 4,
 "nbformat_minor": 2
}
